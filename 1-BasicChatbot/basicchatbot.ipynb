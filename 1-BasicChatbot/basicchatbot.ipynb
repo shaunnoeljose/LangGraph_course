{
 "cells": [
  {
   "cell_type": "markdown",
   "id": "28094b95",
   "metadata": {},
   "source": [
    "### Build a basic chatbot with LangGraph(Graph API)"
   ]
  },
  {
   "cell_type": "code",
   "execution_count": 4,
   "id": "b86256f3",
   "metadata": {},
   "outputs": [],
   "source": [
    "from typing import Annotated\n",
    "from typing_extensions import TypedDict\n",
    "\n",
    "from langgraph.graph import StateGraph,START,END\n",
    "from langgraph.graph.message import add_messages"
   ]
  },
  {
   "cell_type": "code",
   "execution_count": null,
   "id": "4c330d17",
   "metadata": {},
   "outputs": [],
   "source": [
    "# Initializing  State\n",
    "class State(TypedDict): #TypedDict makes sure that the return type of this class is a dictionary\n",
    "    messages:Annotated[list, add_messages]"
   ]
  },
  {
   "cell_type": "code",
   "execution_count": 36,
   "id": "4ad5bc8e",
   "metadata": {},
   "outputs": [
    {
     "data": {
      "text/plain": [
       "ChatGroq(client=<groq.resources.chat.completions.Completions object at 0x000001BAC5F10790>, async_client=<groq.resources.chat.completions.AsyncCompletions object at 0x000001BAC6A22190>, model_name='gemma2-9b-it', model_kwargs={}, groq_api_key=SecretStr('**********'))"
      ]
     },
     "execution_count": 36,
     "metadata": {},
     "output_type": "execute_result"
    }
   ],
   "source": [
    "import os\n",
    "from dotenv import load_dotenv\n",
    "load_dotenv()\n",
    "\n",
    "from langchain_groq import ChatGroq\n",
    "from langchain.chat_models import init_chat_model\n",
    "\n",
    "# creating and calling the llm\n",
    "api_key = os.getenv(\"GROQ_API\")\n",
    "llm = ChatGroq(model = \"gemma2-9b-it\", api_key = api_key)\n",
    "llm"
   ]
  },
  {
   "cell_type": "code",
   "execution_count": 37,
   "id": "6debcbb5",
   "metadata": {},
   "outputs": [],
   "source": [
    "# defining the chatbot node functionality\n",
    "def chatbot(state:State):\n",
    "    return{\"messages\":[llm.invoke(state[\"messages\"])]}\n",
    "\n",
    "# Building the graph\n",
    "graph_builder = StateGraph(State)\n",
    "\n",
    "graph_builder.add_node(\"llm_chatbot\", chatbot)\n",
    "graph_builder.add_edge(START, \"llm_chatbot\")\n",
    "graph_builder.add_edge(\"llm_chatbot\", END)\n",
    "\n",
    "#compilng the graph\n",
    "graph = graph_builder.compile()"
   ]
  },
  {
   "cell_type": "code",
   "execution_count": 38,
   "id": "4b03b819",
   "metadata": {},
   "outputs": [
    {
     "data": {
      "image/png": "[encoded data removed]",
      "text/plain": [
       "<IPython.core.display.Image object>"
      ]
     },
     "metadata": {},
     "output_type": "display_data"
    }
   ],
   "source": [
    "#Visualise the graph\n",
    "from IPython.display import Image, display\n",
    "\n",
    "try:\n",
    "    display(Image(graph.get_graph().draw_mermaid_png()))\n",
    "\n",
    "except Exception :\n",
    "    pass"
   ]
  },
  {
   "cell_type": "code",
   "execution_count": 41,
   "id": "d5831444",
   "metadata": {},
   "outputs": [
    {
     "data": {
      "text/plain": [
       "'Hi there! 👋  What can I do for you today? 😊\\n'"
      ]
     },
     "execution_count": 41,
     "metadata": {},
     "output_type": "execute_result"
    }
   ],
   "source": [
    "# running the graph\n",
    "response = graph.invoke({\"messages\": \"Hi\"})\n",
    "response[\"messages\"] #retrives all the messages\n",
    "response[\"messages\"][-1] #gets the last message\n",
    "response[\"messages\"][-1].content #gets the content of the last message"
   ]
  },
  {
   "cell_type": "code",
   "execution_count": 52,
   "id": "7f78cf18",
   "metadata": {},
   "outputs": [
    {
     "name": "stdout",
     "output_type": "stream",
     "text": [
      "{'llm_chatbot': {'messages': [AIMessage(content=\"As an AI, I don't have feelings, but I'm here and ready to assist you! How can I help you today? 😊\\n\", additional_kwargs={}, response_metadata={'token_usage': {'completion_tokens': 33, 'prompt_tokens': 15, 'total_tokens': 48, 'completion_time': 0.06, 'prompt_time': 0.001932929, 'queue_time': 0.069485863, 'total_time': 0.061932929}, 'model_name': 'gemma2-9b-it', 'system_fingerprint': 'fp_10c08bf97d', 'finish_reason': 'stop', 'logprobs': None}, id='run--b0d09ab7-3f2d-46b8-9852-0ba96d40a695-0', usage_metadata={'input_tokens': 15, 'output_tokens': 33, 'total_tokens': 48})]}}\n",
      "\n",
      "2nd output\n",
      "\n",
      "{'messages': [AIMessage(content=\"As an AI, I don't have feelings, but I'm here and ready to assist you! How can I help you today? 😊\\n\", additional_kwargs={}, response_metadata={'token_usage': {'completion_tokens': 33, 'prompt_tokens': 15, 'total_tokens': 48, 'completion_time': 0.06, 'prompt_time': 0.001912968, 'queue_time': 0.067165121, 'total_time': 0.061912968}, 'model_name': 'gemma2-9b-it', 'system_fingerprint': 'fp_10c08bf97d', 'finish_reason': 'stop', 'logprobs': None}, id='run--bdb2cc84-f5fc-4674-9f3e-221e1de9324f-0', usage_metadata={'input_tokens': 15, 'output_tokens': 33, 'total_tokens': 48})]}\n",
      "\n",
      "3rd output\n",
      "\n",
      "As an AI, I don't have feelings, but I'm here and ready to assist you! How can I help you today?\n",
      "\n"
     ]
    }
   ],
   "source": [
    "for event in graph.stream({\"messages\":\"Hi, How are you?\"}): \n",
    "    #gets the conversation by event. In this case we have for the event(node) llm_chatbot\n",
    "    print(event)\n",
    "\n",
    "print(\"\\n2nd output\\n\")\n",
    "for event in graph.stream({\"messages\":\"Hi, How are you?\"}): \n",
    "    for value in event.values():\n",
    "        print(value)\n",
    "\n",
    "print(\"\\n3rd output\\n\")\n",
    "for event in graph.stream({\"messages\":\"Hi, How are you?\"}): \n",
    "    for value in event.values():\n",
    "        print(value[\"messages\"][-1].content)\n"
   ]
  },
  {
   "cell_type": "code",
   "execution_count": null,
   "id": "c8a8f900",
   "metadata": {},
   "outputs": [],
   "source": []
  }
 ],
 "metadata": {
  "kernelspec": {
   "display_name": "AgentLangGraph",
   "language": "python",
   "name": "python3"
  },
  "language_info": {
   "codemirror_mode": {
    "name": "ipython",
    "version": 3
   },
   "file_extension": ".py",
   "mimetype": "text/x-python",
   "name": "python",
   "nbconvert_exporter": "python",
   "pygments_lexer": "ipython3",
   "version": "3.11.11"
  }
 },
 "nbformat": 4,
 "nbformat_minor": 5
}
