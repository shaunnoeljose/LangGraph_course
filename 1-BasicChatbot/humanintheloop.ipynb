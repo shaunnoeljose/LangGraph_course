{
 "cells": [
  {
   "cell_type": "markdown",
   "id": "6cdf473e",
   "metadata": {},
   "source": [
    "# Human in the loop"
   ]
  },
  {
   "cell_type": "markdown",
   "id": "58c88ff5",
   "metadata": {},
   "source": []
  }
 ],
 "metadata": {
  "kernelspec": {
   "display_name": "AgentLangGraph",
   "language": "python",
   "name": "python3"
  },
  "language_info": {
   "name": "python",
   "version": "3.11.11"
  }
 },
 "nbformat": 4,
 "nbformat_minor": 5
}
