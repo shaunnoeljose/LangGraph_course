{
 "cells": [
  {
   "cell_type": "markdown",
   "id": "8adfb920",
   "metadata": {},
   "source": [
    "### Chatbot with Tool"
   ]
  },
  {
   "cell_type": "code",
   "execution_count": null,
   "id": "2705fb9d",
   "metadata": {},
   "outputs": [],
   "source": [
    "from typing import Annotated\n",
    "from typing_extensions import TypedDict\n",
    "\n",
    "from langgraph.graph import StateGraph,START,END\n",
    "from langgraph.graph.message import add_messages\n",
    "from langchain_groq import ChatGroq\n",
    "\n",
    "import os\n",
    "from dotenv import load_dotenv\n",
    "load_dotenv()\n",
    "\n",
    "# loading the llm\n",
    "api_key = os.getenv(\"GROQ_API\")\n",
    "llm = ChatGroq(model = \"gemma2-9b-it\", api_key = api_key)"
   ]
  },
  {
   "cell_type": "code",
   "execution_count": 16,
   "id": "8550d2d7",
   "metadata": {},
   "outputs": [
    {
     "data": {
      "text/plain": [
       "{'query': 'What is the latest news in kerala',\n",
       " 'follow_up_questions': None,\n",
       " 'answer': None,\n",
       " 'images': [],\n",
       " 'results': [{'title': 'Latest Kerala News - Mathrubhumi English',\n",
       "   'url': 'https://english.mathrubhumi.com/mobile/news/kerala',\n",
       "   'content': 'Mathrubhumi English delivers the latest Kerala news, breaking updates, politics, crime, entertainment, travel, food, culture, and more. Stay updated with top Kerala headlines in English.',\n",
       "   'score': 0.78788257,\n",
       "   'raw_content': None},\n",
       "  {'title': 'Kerala News Today in English | Latest Kerala Updates - Onmanorama',\n",
       "   'url': 'https://www.onmanorama.com/news/kerala.html',\n",
       "   'content': 'Get all the Latest Kerala News Updates from Onmanorama. Kerala Breaking News, Kerala News in English Today, Kerala News Headlines in English, Kerala.News Kerala , Kerala Breaking News , Kerala News Headlines , Kerala News English , Kerala Political News , Kerala Crime News , Kerala English News , Kerala News Updates , Kerala Local News , Kerala',\n",
       "   'score': 0.7355091,\n",
       "   'raw_content': None}],\n",
       " 'response_time': 2.41}"
      ]
     },
     "execution_count": 16,
     "metadata": {},
     "output_type": "execute_result"
    }
   ],
   "source": [
    "# Loading the tavily tool\n",
    "from langchain_tavily import TavilySearch\n",
    "tavily_api_key = os.getenv(\"TAVILY_API\")\n",
    "\n",
    "tool = TavilySearch(max_results = 2)\n",
    "tool.invoke(\"What is the latest news in kerala\")"
   ]
  },
  {
   "cell_type": "code",
   "execution_count": 45,
   "id": "ae55d2a4",
   "metadata": {},
   "outputs": [],
   "source": [
    "#Defining custom function\n",
    "def multipy(a:int,b:int)->int: # the doc string is very important\n",
    "    \"\"\"Multiply a and b # example of document string\n",
    "\n",
    "    Args:\n",
    "        a (int) : first int\n",
    "        b (int) : second int\n",
    "\n",
    "    Returns:\n",
    "        int: output int\n",
    "    \"\"\"\n",
    "    return(a*b)\n",
    "\n",
    "#Creating the tools list \n",
    "tools = [tool,multipy]\n",
    "\n",
    "#binding llm with tools\n",
    "llm_with_tools = llm.bind_tools(tools)"
   ]
  },
  {
   "cell_type": "code",
   "execution_count": 46,
   "id": "8bcefd70",
   "metadata": {},
   "outputs": [],
   "source": [
    "# Initializing  State\n",
    "class State(TypedDict): #TypedDict makes sure that the return type of this class is a dictionary\n",
    "    messages:Annotated[list, add_messages]"
   ]
  },
  {
   "cell_type": "code",
   "execution_count": 47,
   "id": "b2f2acf2",
   "metadata": {},
   "outputs": [
    {
     "data": {
      "image/png": "[encoded data removed]",
      "text/plain": [
       "<IPython.core.display.Image object>"
      ]
     },
     "metadata": {},
     "output_type": "display_data"
    }
   ],
   "source": [
    "# Creating StateGraph and the Graph\n",
    "from langgraph.graph import StateGraph, START, END\n",
    "from langgraph.prebuilt import ToolNode\n",
    "from langgraph.prebuilt import tools_condition\n",
    "\n",
    "# defining the tool calling llm Node function\n",
    "def tool_llm(state:State):\n",
    "    return{\"messages\":[llm_with_tools.invoke(state[\"messages\"])]}\n",
    "\n",
    "# Building the graph\n",
    "graph_builder = StateGraph(State)\n",
    "\n",
    "#Adding nodes\n",
    "graph_builder.add_node(\"tool_calling_llm\",tool_llm)\n",
    "graph_builder.add_node(\"tools\", ToolNode(tools))\n",
    "\n",
    "# Adding edges\n",
    "graph_builder.add_edge(START,\"tool_calling_llm\" )\n",
    "graph_builder.add_conditional_edges(\n",
    "    \"tool_calling_llm\",\n",
    "    #If the latest message result from assistant is a tool call --> tools_condition routes to tools\n",
    "    #If the latest message result from assistant is not a tool call --> tools_condition routes to END\n",
    "    tools_condition)\n",
    "graph_builder.add_edge(\"tools\",END)\n",
    "\n",
    "#compilng the graph\n",
    "graph = graph_builder.compile()\n",
    "graph\n",
    "\n",
    "# visualise the graph this way as well\n",
    "from IPython.display import Image, display\n",
    "\n",
    "try:\n",
    "    display(Image(graph.get_graph().draw_mermaid_png()))\n",
    "\n",
    "except Exception :\n",
    "    pass"
   ]
  },
  {
   "cell_type": "code",
   "execution_count": 48,
   "id": "ef66f69c",
   "metadata": {},
   "outputs": [],
   "source": [
    "# Calling the LLM\n",
    "response1 = graph.invoke({\"messages\":\"What is the recent news from OpenAI\"})"
   ]
  },
  {
   "cell_type": "code",
   "execution_count": null,
   "id": "1fb7c442",
   "metadata": {},
   "outputs": [
    {
     "name": "stdout",
     "output_type": "stream",
     "text": [
      "================================\u001b[1m Human Message \u001b[0m=================================\n",
      "\n",
      "What is the recent news from OpenAI\n",
      "==================================\u001b[1m Ai Message \u001b[0m==================================\n",
      "Tool Calls:\n",
      "  tavily_search (t0naq1k0y)\n",
      " Call ID: t0naq1k0y\n",
      "  Args:\n",
      "    query: recent news from OpenAI\n",
      "    search_depth: advanced\n",
      "    time_range: week\n",
      "=================================\u001b[1m Tool Message \u001b[0m=================================\n",
      "Name: tavily_search\n",
      "\n",
      "{\"query\": \"recent news from OpenAI\", \"follow_up_questions\": null, \"answer\": null, \"images\": [], \"results\": [{\"title\": \"AI-Weekly for Tuesday, July 1, 2025 - Issue 171\", \"url\": \"https://ai-weekly.ai/newsletter-07-01-2025/\", \"content\": \"AI News: DeepSeek R2 Delayed, Meta Poaches From OpenAI, OpenAI Sued, Imagen 4, And More! | Matt Berman | YouTube.com | June 27, 2025 Key developments in AI include the delay of DeepSeek R2, Meta's recruitment of talent from OpenAI, and a legal challenge facing OpenAI.\", \"score\": 0.8170061, \"raw_content\": null}, {\"title\": \"OpenAI taps Oracle for $30 billion supercharging AI ...\", \"url\": \"https://americanbazaaronline.com/2025/07/03/openai-taps-oracle-for-30-billion-supercharging-ai-infrastructure-464582/\", \"content\": \"By Shubhangi Chowdhury OpenAI is stepping up its AI game with a massive new deal. The AI company will rent an additional 4.5 gigawatts of data center power from Oracle, worth $30 billion.\", \"score\": 0.7795405, \"raw_content\": null}], \"response_time\": 4.2}\n"
     ]
    }
   ],
   "source": [
    "response1[\"messages\"][-1].content\n",
    "\n",
    "for m in response1[\"messages\"]:\n",
    "    m.pretty_print()"
   ]
  },
  {
   "cell_type": "code",
   "execution_count": 57,
   "id": "a24fe588",
   "metadata": {},
   "outputs": [
    {
     "name": "stdout",
     "output_type": "stream",
     "text": [
      "output_2\n",
      "================================\u001b[1m Human Message \u001b[0m=================================\n",
      "\n",
      "What is 2 multiplied by 3\n",
      "==================================\u001b[1m Ai Message \u001b[0m==================================\n",
      "Tool Calls:\n",
      "  multipy (kvpr4691p)\n",
      " Call ID: kvpr4691p\n",
      "  Args:\n",
      "    a: 2\n",
      "    b: 3\n",
      "=================================\u001b[1m Tool Message \u001b[0m=================================\n",
      "Name: multipy\n",
      "\n",
      "6\n",
      "\n",
      "output_3\n",
      "================================\u001b[1m Human Message \u001b[0m=================================\n",
      "\n",
      "What is 6 multiplied by 3 and then multiply 20\n",
      "==================================\u001b[1m Ai Message \u001b[0m==================================\n",
      "Tool Calls:\n",
      "  multipy (2cfx7h38f)\n",
      " Call ID: 2cfx7h38f\n",
      "  Args:\n",
      "    a: 18\n",
      "    b: 20\n",
      "=================================\u001b[1m Tool Message \u001b[0m=================================\n",
      "Name: multipy\n",
      "\n",
      "360\n",
      "\n",
      "output_4\n",
      "================================\u001b[1m Human Message \u001b[0m=================================\n",
      "\n",
      "What is the lastest OpenAI news and also multipy 3 and 20\n",
      "==================================\u001b[1m Ai Message \u001b[0m==================================\n",
      "Tool Calls:\n",
      "  tavily_search (ft6g44atm)\n",
      " Call ID: ft6g44atm\n",
      "  Args:\n",
      "    query: latest OpenAI news\n",
      "    search_depth: advanced\n",
      "    time_range: day\n",
      "=================================\u001b[1m Tool Message \u001b[0m=================================\n",
      "Name: tavily_search\n",
      "\n",
      "{\"query\": \"latest OpenAI news\", \"follow_up_questions\": null, \"answer\": null, \"images\": [], \"results\": [{\"url\": \"https://finance.yahoo.com/news/openai-secures-30bn-cloud-deal-094538950.html\", \"title\": \"OpenAI secures $30bn cloud deal with Oracle - Yahoo Finance\", \"content\": \"Oops, something went wrong\\n\\n### News\\n\\n### Life\\n\\n### Entertainment\\n\\n### Finance\\n\\n### Sports\\n\\n### New on Yahoo\\n\\n# Yahoo Finance\\n\\nVerdict\\n\\n# OpenAI secures $30bn cloud deal with Oracle\\n\\n## In This Article:\\n\\nOpenAI has signed a new agreement with database group Oracle to secure 4.5GW of computing power in a deal valued at approximately $30bn annually.\\n\\nThe transaction is among the largest cloud agreements for AI to date, reported The Financial Times. [...] This comes after Oracle announced a cloud computing contract earlier in July 2025, with annual revenue starting in 2028, without naming the client. The deal's value is nearly three times the company’s $10.3bn annual revenue from its data centre infrastructure business in 2025.\\n\\nIt also signifies a major expansion of OpenAI's ‘Stargate’ data centre initiative, launched with SoftBank in January. This project aims to provide substantial computing resources to develop advanced AI models.\", \"score\": 0.69199765, \"raw_content\": null}, {\"url\": \"https://www.capacitymedia.com/article-openai-oracle-30bn\", \"title\": \"OpenAI strikes landmark $30bn per year data centre deal\", \"content\": \"## OpenAI has signed a landmark $30 billion (£24bn) annual agreement with Oracle to lease an enormous 4.5 gigawatts of data centre capacity across multiple US locations, forming a key part of its wider Stargate infrastructure initiative.\\n\\nThe agreement, one of the largest of its kind, will see Oracle build and expand hyperscale facilities, including a 1.2 GW “Supercluster” campus in Abilene, Texas, equipped with tens of thousands of Nvidia’s latest GB200 AI chips. [...] The move, confirmed by multiple reports including the Financial Times, aims to underpin OpenAI’s continued rapid model development while diversifying its cloud infrastructure beyond Microsoft Azure. OpenAI is also working with CoreWeave and Google Cloud as part of this multicloud strategy.\\n\\nCapacity Banners 970x906 (1).jpg [...] The Abilene campus alone is expected to eventually house 400,000 Nvidia GPUs, representing a hardware investment worth nearly $40 billion.\\n\\nThe deal cements Oracle’s position as a key infrastructure provider for OpenAI and reinforces the growing arms race in AI compute.\\n\\nWhile Microsoft remains OpenAI’s closest strategic partner, Oracle’s infrastructure will be crucial for the scale and speed of future model training.\\n\\nDatacloud USA & Metro Fall 600x74 2025.jpg\\n\\nRELATED STORIES\", \"score\": 0.64719695, \"raw_content\": null}], \"response_time\": 3.57}\n"
     ]
    }
   ],
   "source": [
    "print('output_2')\n",
    "response2 = graph.invoke({\"messages\":\"What is 2 multiplied by 3\"})\n",
    "for m in response2[\"messages\"]:\n",
    "    m.pretty_print()\n",
    "\n",
    "print('\\noutput_3')\n",
    "response3 = graph.invoke({\"messages\":\"What is 6 multiplied by 3 and then multiply 20\"})\n",
    "for m in response3[\"messages\"]:\n",
    "    m.pretty_print()\n",
    "\n",
    "print('\\noutput_4')\n",
    "response4 = graph.invoke({\"messages\":\"What is the lastest OpenAI news and also multipy 3 and 20\"})\n",
    "for m in response4[\"messages\"]:\n",
    "    m.pretty_print()"
   ]
  },
  {
   "cell_type": "markdown",
   "id": "8b865e61",
   "metadata": {},
   "source": [
    "## ReAct Agent Architecture"
   ]
  },
  {
   "cell_type": "code",
   "execution_count": 65,
   "id": "da812508",
   "metadata": {},
   "outputs": [
    {
     "data": {
      "image/png": "[encoded data removed]",
      "text/plain": [
       "<IPython.core.display.Image object>"
      ]
     },
     "metadata": {},
     "output_type": "display_data"
    }
   ],
   "source": [
    "# Implementing ReAct Agent Architecture\n",
    "\n",
    "# Creating StateGraph and the Graph\n",
    "from langgraph.graph import StateGraph, START, END\n",
    "from langgraph.prebuilt import ToolNode\n",
    "from langgraph.prebuilt import tools_condition\n",
    "\n",
    "# defining the tool calling llm Node function\n",
    "def tool_llm(state:State):\n",
    "    return{\"messages\":[llm_with_tools.invoke(state[\"messages\"])]}\n",
    "\n",
    "# Building the graph\n",
    "graph_builder = StateGraph(State)\n",
    "\n",
    "#Adding nodes\n",
    "graph_builder.add_node(\"tool_calling_llm\",tool_llm)\n",
    "graph_builder.add_node(\"tools\", ToolNode(tools))\n",
    "\n",
    "# Adding edges\n",
    "graph_builder.add_edge(START,\"tool_calling_llm\" )\n",
    "graph_builder.add_conditional_edges(\n",
    "    \"tool_calling_llm\",\n",
    "    #If the latest message result from assistant is a tool call --> tools_condition routes to tools\n",
    "    #If the latest message result from assistant is not a tool call --> tools_condition routes to END\n",
    "    tools_condition)\n",
    "graph_builder.add_edge(\"tools\",\"tool_calling_llm\")\n",
    "# graph_builder.add_edge(\"tools\",END)\n",
    "\n",
    "#compilng the graph\n",
    "graph_react = graph_builder.compile()\n",
    "graph_react\n",
    "\n",
    "# visualise the graph this way as well\n",
    "from IPython.display import Image, display\n",
    "\n",
    "try:\n",
    "    display(Image(graph_react.get_graph().draw_mermaid_png()))\n",
    "\n",
    "except Exception :\n",
    "    pass"
   ]
  },
  {
   "cell_type": "code",
   "execution_count": 72,
   "id": "b3bd7616",
   "metadata": {},
   "outputs": [
    {
     "name": "stdout",
     "output_type": "stream",
     "text": [
      "output_2\n",
      "================================\u001b[1m Human Message \u001b[0m=================================\n",
      "\n",
      "What is 2 multiplied by 3\n",
      "==================================\u001b[1m Ai Message \u001b[0m==================================\n",
      "Tool Calls:\n",
      "  multipy (hhqz8h122)\n",
      " Call ID: hhqz8h122\n",
      "  Args:\n",
      "    a: 2\n",
      "    b: 3\n",
      "=================================\u001b[1m Tool Message \u001b[0m=================================\n",
      "Name: multipy\n",
      "\n",
      "6\n",
      "==================================\u001b[1m Ai Message \u001b[0m==================================\n",
      "\n",
      "6\n",
      "\n",
      "output_3\n",
      "================================\u001b[1m Human Message \u001b[0m=================================\n",
      "\n",
      "What is 6 multiplied by 3 and then multiply 20\n",
      "==================================\u001b[1m Ai Message \u001b[0m==================================\n",
      "Tool Calls:\n",
      "  multipy (qgcdk089p)\n",
      " Call ID: qgcdk089p\n",
      "  Args:\n",
      "    a: 18\n",
      "    b: 20\n",
      "=================================\u001b[1m Tool Message \u001b[0m=================================\n",
      "Name: multipy\n",
      "\n",
      "360\n",
      "==================================\u001b[1m Ai Message \u001b[0m==================================\n",
      "Tool Calls:\n",
      "  multipy (yxrk482ba)\n",
      " Call ID: yxrk482ba\n",
      "  Args:\n",
      "    a: 360\n",
      "    b: 2\n",
      "=================================\u001b[1m Tool Message \u001b[0m=================================\n",
      "Name: multipy\n",
      "\n",
      "720\n",
      "==================================\u001b[1m Ai Message \u001b[0m==================================\n",
      "\n",
      "720\n",
      "\n",
      "output_4\n",
      "================================\u001b[1m Human Message \u001b[0m=================================\n",
      "\n",
      "What is the 5 lastest news in AI and also multipy 3 and 20. Also give me the latest news of AI in India\n",
      "==================================\u001b[1m Ai Message \u001b[0m==================================\n",
      "Tool Calls:\n",
      "  tavily_search (hz3zj1x0p)\n",
      " Call ID: hz3zj1x0p\n",
      "  Args:\n",
      "    query: latest AI news\n",
      "    search_depth: advanced\n",
      "    time_range: day\n",
      "=================================\u001b[1m Tool Message \u001b[0m=================================\n",
      "Name: tavily_search\n",
      "\n",
      "{\"query\": \"latest AI news\", \"follow_up_questions\": null, \"answer\": null, \"images\": [], \"results\": [{\"title\": \"Artificial Intelligence News Live: Viral band Velvet Sundown at center ...\", \"url\": \"https://www.moneycontrol.com/world/artificial-intelligence-news-live-updates-04-07-2025-alpha-liveblog-13228449.html\", \"content\": \"Welcome to our live blog tracking the latest developments in Artificial Intelligence. Stay updated with real-time insights into AI breakthroughs, technological innovations, industry applications\", \"score\": 0.6816637, \"raw_content\": null}, {\"url\": \"https://scalac.io/blog/last-month-in-ai-june-2025/\", \"title\": \"Last month in AI - June 2025 - Scalac\", \"content\": \"Meta made one of the largest AI investments of 2025, with a $14.3-15 billion investment in Scale AI, effectively acquiring Scale's CEO, Alexandr Wang, to lead\", \"score\": 0.53400564, \"raw_content\": null}], \"response_time\": 4.57}\n",
      "==================================\u001b[1m Ai Message \u001b[0m==================================\n",
      "Tool Calls:\n",
      "  tavily_search (44yrs9x2z)\n",
      " Call ID: 44yrs9x2z\n",
      "  Args:\n",
      "    query: latest AI news in India\n",
      "    search_depth: advanced\n",
      "    time_range: day\n",
      "=================================\u001b[1m Tool Message \u001b[0m=================================\n",
      "Name: tavily_search\n",
      "\n",
      "{\"query\": \"latest AI news in India\", \"follow_up_questions\": null, \"answer\": null, \"images\": [], \"results\": [{\"title\": \"Startup Policy Forum lays the foundation of India's deep-tech future ...\", \"url\": \"https://www.fortuneindia.com/technology/startup-policy-forum-lays-the-foundation-of-indias-deep-tech-future-with-100desideeptechs/124584\", \"content\": \"In May, the IndiaAI Mission said that it has empanelled an additional 16,000 Graphics Processing Units (GPUs) in the second round. With this latest addition, the total number of GPUs available under the mission has now reached 34,333, marking a significant step forward in India’s ambition to create a strong, self-reliant, and inclusive AI ecosystem. [...] Several Indian firms are powering the IndiaAI Compute initiative with top-tier AI hardware. Cyfuture India, Ishan Infotech, Netmagic, Sify, Vensysco, Locuz, and Yotta are offering a mix of Nvidia GPUs (such as H100, H200, and B200), AMD chips (MI300X and MI325X), and Intel’s Gaudi series. Vensysco and Locuz also took part in the first round. [...] Sarvam AI co-founders Vivek Raghavan and Pratyush Kumar are both veterans of AI4Bharat at IIT Madras. In June, Sarvam launched Sarvam Samvaad, a new conversational AI platform for businesses to build, test, and deploy AI agents across 11 Indian languages. With Sarvam Samvaad, the company aims to transform the customer experience by enabling seamless interactions across various channels.\", \"score\": 0.82895297, \"raw_content\": null}, {\"url\": \"https://m.economictimes.com/magazines/panache/veo-3-googles-powerful-ai-video-tool-now-available-in-india-heres-how-you-can-access-it/articleshow/122227425.cms\", \"title\": \"Veo 3: Google's powerful AI video tool now available in India. Here's ...\", \"content\": \"In a significant announcement for the Indian market, Google's advanced AI video generation tool, Veo 3, is now officially available in India,\", \"score\": 0.7016523, \"raw_content\": null}], \"response_time\": 4.26}\n",
      "==================================\u001b[1m Ai Message \u001b[0m==================================\n",
      "\n",
      "3 * 20 = 60\n"
     ]
    }
   ],
   "source": [
    "print('output_2')\n",
    "response2 = graph_react.invoke({\"messages\":\"What is 2 multiplied by 3\"})\n",
    "for m in response2[\"messages\"]:\n",
    "    m.pretty_print()\n",
    "\n",
    "print('\\noutput_3')\n",
    "response3 = graph_react.invoke({\"messages\":\"What is 6 multiplied by 3 and then multiply 20\"})\n",
    "for m in response3[\"messages\"]:\n",
    "    m.pretty_print()\n",
    "\n",
    "print('\\noutput_4')\n",
    "response4 = graph_react.invoke({\"messages\":\"What is the 5 lastest news in AI and also multipy 3 and 20. Also give me the latest news of AI in India\"})\n",
    "for m in response4[\"messages\"]:\n",
    "    m.pretty_print()"
   ]
  },
  {
   "cell_type": "code",
   "execution_count": null,
   "id": "52c87462",
   "metadata": {},
   "outputs": [],
   "source": []
  }
 ],
 "metadata": {
  "kernelspec": {
   "display_name": "AgentLangGraph",
   "language": "python",
   "name": "python3"
  },
  "language_info": {
   "codemirror_mode": {
    "name": "ipython",
    "version": 3
   },
   "file_extension": ".py",
   "mimetype": "text/x-python",
   "name": "python",
   "nbconvert_exporter": "python",
   "pygments_lexer": "ipython3",
   "version": "3.11.11"
  }
 },
 "nbformat": 4,
 "nbformat_minor": 5
}
