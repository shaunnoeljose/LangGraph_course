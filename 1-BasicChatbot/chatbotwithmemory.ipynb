{
 "cells": [
  {
   "cell_type": "markdown",
   "id": "e05be0dd",
   "metadata": {},
   "source": [
    "## Adding Memory in Agentic Graph\n",
    "### Creating the agent workflow"
   ]
  },
  {
   "cell_type": "code",
   "execution_count": 13,
   "id": "0c90b2b8",
   "metadata": {},
   "outputs": [],
   "source": [
    "from typing import Annotated\n",
    "from typing_extensions import TypedDict\n",
    "\n",
    "from langgraph.graph import StateGraph,START,END\n",
    "from langgraph.graph.message import add_messages\n",
    "from langchain_groq import ChatGroq\n",
    "\n",
    "import os\n",
    "from dotenv import load_dotenv\n",
    "load_dotenv()\n",
    "\n",
    "# loading the llm\n",
    "api_key = os.getenv(\"GROQ_API\")\n",
    "llm = ChatGroq(model = \"llama3-70b-8192\", api_key = api_key)\n",
    "\n",
    "# Loading the tavily tool\n",
    "from langchain_tavily import TavilySearch\n",
    "tavily_api_key = os.getenv(\"TAVILY_API\")\n",
    "\n",
    "tool = TavilySearch(max_results = 2)"
   ]
  },
  {
   "cell_type": "code",
   "execution_count": 14,
   "id": "4e9548f5",
   "metadata": {},
   "outputs": [],
   "source": [
    "#Defining custom function\n",
    "def multipy(a:int,b:int)->int: # the doc string is very important\n",
    "    \"\"\"Multiply a and b # example of document string\n",
    "\n",
    "    Args:\n",
    "        a (int) : first int\n",
    "        b (int) : second int\n",
    "\n",
    "    Returns:\n",
    "        int: output int\n",
    "    \"\"\"\n",
    "    return(a*b)\n",
    "\n",
    "#Creating the tools list \n",
    "tools = [tool,multipy]\n",
    "\n",
    "#binding llm with tools\n",
    "llm_with_tools = llm.bind_tools(tools)\n",
    "\n",
    "# Initializing  State\n",
    "class State(TypedDict): #TypedDict makes sure that the return type of this class is a dictionary\n",
    "    messages:Annotated[list, add_messages]"
   ]
  },
  {
   "cell_type": "code",
   "execution_count": 32,
   "id": "54a2dcc5",
   "metadata": {},
   "outputs": [
    {
     "data": {
      "image/png": "[encoded data removed]",
      "text/plain": [
       "<IPython.core.display.Image object>"
      ]
     },
     "metadata": {},
     "output_type": "display_data"
    }
   ],
   "source": [
    "# Implementing ReAct Agent Architecture\n",
    "\n",
    "# Creating StateGraph and the Graph\n",
    "from langgraph.graph import StateGraph, START, END\n",
    "from langgraph.prebuilt import ToolNode\n",
    "from langgraph.prebuilt import tools_condition\n",
    "\n",
    "# defining the tool calling llm Node function\n",
    "def tool_llm(state:State):\n",
    "    return{\"messages\":[llm_with_tools.invoke(state[\"messages\"])]}\n",
    "\n",
    "# Building the graph\n",
    "graph_builder = StateGraph(State)\n",
    "\n",
    "#Adding nodes\n",
    "graph_builder.add_node(\"tool_calling_llm\",tool_llm)\n",
    "graph_builder.add_node(\"tools\", ToolNode(tools))\n",
    "\n",
    "# Adding edges\n",
    "graph_builder.add_edge(START,\"tool_calling_llm\" )\n",
    "graph_builder.add_conditional_edges(\n",
    "    \"tool_calling_llm\",\n",
    "    #If the latest message result from assistant is a tool call --> tools_condition routes to tools\n",
    "    #If the latest message result from assistant is not a tool call --> tools_condition routes to END\n",
    "    tools_condition)\n",
    "graph_builder.add_edge(\"tools\",\"tool_calling_llm\")\n",
    "# graph_builder.add_edge(\"tools\",END)\n",
    "\n",
    "#compilng the graph\n",
    "graph_react = graph_builder.compile()\n",
    "graph_react\n",
    "\n",
    "# visualise the graph this way as well\n",
    "from IPython.display import Image, display\n",
    "\n",
    "try:\n",
    "    display(Image(graph_react.get_graph().draw_mermaid_png()))\n",
    "\n",
    "except Exception :\n",
    "    pass"
   ]
  },
  {
   "cell_type": "code",
   "execution_count": 20,
   "id": "dcd3e5fa",
   "metadata": {},
   "outputs": [
    {
     "name": "stdout",
     "output_type": "stream",
     "text": [
      "\n",
      "output_1\n",
      "================================\u001b[1m Human Message \u001b[0m=================================\n",
      "\n",
      "Hello, My name is Shaun\n",
      "==================================\u001b[1m Ai Message \u001b[0m==================================\n",
      "\n",
      "Nice to meet you, Shaun! Is there something I can help you with or would you like to chat about something in particular?\n",
      "\n",
      "output_2\n",
      "================================\u001b[1m Human Message \u001b[0m=================================\n",
      "\n",
      "What is my name\n",
      "==================================\u001b[1m Ai Message \u001b[0m==================================\n",
      "\n",
      "I don't have any information about your name. I'm a large language model, I don't have access to personal information about you. I'm here to help answer your questions and provide information on a wide range of topics. If you'd like to chat or ask a question, I'm happy to help!\n"
     ]
    }
   ],
   "source": [
    "print('\\noutput_1')\n",
    "response_1 = graph_react.invoke({\"messages\":\"Hello, My name is Shaun\"})\n",
    "for m in response_1[\"messages\"]:\n",
    "    m.pretty_print()\n",
    "\n",
    "print('\\noutput_2')\n",
    "response_1 = graph_react.invoke({\"messages\":\"What is my name\"})\n",
    "for m in response_1[\"messages\"]:\n",
    "    m.pretty_print()"
   ]
  },
  {
   "cell_type": "markdown",
   "id": "07809ee7",
   "metadata": {},
   "source": [
    "### Adding Memory to the agentic graph"
   ]
  },
  {
   "cell_type": "code",
   "execution_count": 33,
   "id": "45bc2c4b",
   "metadata": {},
   "outputs": [
    {
     "data": {
      "text/plain": [
       "{'messages': [HumanMessage(content='Hi my name is Shaun', additional_kwargs={}, response_metadata={}, id='b4f4be0a-3dbf-4481-adf6-e11da0014333'),\n",
       "  AIMessage(content=\"Nice to meet you, Shaun! How's it going?\", additional_kwargs={}, response_metadata={'token_usage': {'completion_tokens': 13, 'prompt_tokens': 2267, 'total_tokens': 2280, 'completion_time': 0.132281821, 'prompt_time': 0.088126292, 'queue_time': 0.23181289100000002, 'total_time': 0.220408113}, 'model_name': 'llama3-70b-8192', 'system_fingerprint': 'fp_dd4ae1c591', 'finish_reason': 'stop', 'logprobs': None}, id='run--8faf626d-ef53-4bb7-898d-19a73014c3ac-0', usage_metadata={'input_tokens': 2267, 'output_tokens': 13, 'total_tokens': 2280})]}"
      ]
     },
     "execution_count": 33,
     "metadata": {},
     "output_type": "execute_result"
    }
   ],
   "source": [
    "# Adding memory in the graph\n",
    "from langgraph.checkpoint.memory import MemorySaver\n",
    "memory = MemorySaver()\n",
    "\n",
    "# we need to add this checkpoint while compiling\n",
    "graph_react = graph_builder.compile(checkpointer = memory)\n",
    "\n",
    "config = {\"configurable\":{\"thread_id\":\"1\"}} #thread id should be unique(\"1\"). This will create an unique thread id\n",
    "\n",
    "response_2 = graph_react.invoke({\"messages\":\"Hi my name is Shaun\"}, config=config)\n",
    "response_2"
   ]
  },
  {
   "cell_type": "code",
   "execution_count": 36,
   "id": "2edb096b",
   "metadata": {},
   "outputs": [
    {
     "name": "stdout",
     "output_type": "stream",
     "text": [
      "Your name is Shaun!\n"
     ]
    }
   ],
   "source": [
    "# response_2[\"messages\"][-1]\n",
    "response_3 = graph_react.invoke({\"messages\":\"Hi what is my name\"}, config=config)\n",
    "# response_3\n",
    "\n",
    "print(response_3[\"messages\"][-1].content)"
   ]
  },
  {
   "cell_type": "markdown",
   "id": "cf6227d4",
   "metadata": {},
   "source": [
    "# Streaming"
   ]
  },
  {
   "cell_type": "code",
   "execution_count": 44,
   "id": "b767ac53",
   "metadata": {},
   "outputs": [
    {
     "data": {
      "text/plain": [
       "{'messages': [HumanMessage(content='Hi my name is Shaun', additional_kwargs={}, response_metadata={}, id='6ea52bf0-ba19-48a6-a8a0-9b6a1d80ef32'),\n",
       "  AIMessage(content=\"Hi Shaun! It's nice to meet you. Is there something I can help you with or would you like to chat?\", additional_kwargs={}, response_metadata={'token_usage': {'completion_tokens': 26, 'prompt_tokens': 15, 'total_tokens': 41, 'completion_time': 0.074285714, 'prompt_time': 0.000227666, 'queue_time': 0.020305954999999997, 'total_time': 0.07451338}, 'model_name': 'llama3-70b-8192', 'system_fingerprint': 'fp_2de508bbce', 'finish_reason': 'stop', 'logprobs': None}, id='run--c3b5ea3b-3b7f-45b0-bb11-6871f3c8c109-0', usage_metadata={'input_tokens': 15, 'output_tokens': 26, 'total_tokens': 41})]}"
      ]
     },
     "execution_count": 44,
     "metadata": {},
     "output_type": "execute_result"
    }
   ],
   "source": [
    "from langgraph.checkpoint.memory import MemorySaver\n",
    "memory = MemorySaver()\n",
    "\n",
    "def superbot(state:State): #Adding a simple node\n",
    "    return{\"messages\":[llm.invoke(state[\"messages\"])]}\n",
    "\n",
    "# creating the graph structure\n",
    "graph = StateGraph(State)\n",
    "\n",
    "#adding node\n",
    "graph.add_node(\"superbot\", superbot)\n",
    "\n",
    "#adding edges\n",
    "graph.add_edge(START,\"superbot\")\n",
    "graph.add_edge(\"superbot\",END)\n",
    "\n",
    "#compiling the graph\n",
    "graph = graph.compile(checkpointer=memory)\n",
    "graph\n",
    "\n",
    "#creating a thread\n",
    "config = {\"configurable\": {\"thread_id\":\"1\"}}\n",
    "\n",
    "#invoking the graph\n",
    "graph.invoke({\"messages\":\"Hi my name is Shaun\"},config=config)"
   ]
  },
  {
   "cell_type": "markdown",
   "id": "3590f076",
   "metadata": {},
   "source": [
    "## Streaming Techniques\n",
    "### Methods: .stream() and astream()\n",
    "* ### These methods are sync and async methods for streaming back results\n",
    "### Additional parameters in streamin mode for graph state\n",
    "* &nbsp; **Values**: This streams the full state of the graph after each node is called\n",
    "* &nbsp; **updates**: This streams updates to the state of the graph after each node is called"
   ]
  },
  {
   "cell_type": "markdown",
   "id": "7918a62a",
   "metadata": {},
   "source": [
    "#### Using Sync method"
   ]
  },
  {
   "cell_type": "code",
   "execution_count": 51,
   "id": "664e3a27",
   "metadata": {},
   "outputs": [
    {
     "name": "stdout",
     "output_type": "stream",
     "text": [
      "\n",
      "output_updates\n",
      "{'superbot': {'messages': [AIMessage(content=\"Hi Shaun! It's great to meet you! I think we've had a great conversation starter, but I want to mix things up a bit! If you could teach anywhere in the world, where would you go and why? Would you want to teach in a different country, or maybe even in a unique setting like a museum or outdoor classroom?\", additional_kwargs={}, response_metadata={'token_usage': {'completion_tokens': 71, 'prompt_tokens': 379, 'total_tokens': 450, 'completion_time': 0.23189774, 'prompt_time': 0.012118961, 'queue_time': 0.21095419199999998, 'total_time': 0.244016701}, 'model_name': 'llama3-70b-8192', 'system_fingerprint': 'fp_dd4ae1c591', 'finish_reason': 'stop', 'logprobs': None}, id='run--0c5bdd17-3605-4b82-af9d-cb5eb81d0226-0', usage_metadata={'input_tokens': 379, 'output_tokens': 71, 'total_tokens': 450})]}}\n",
      "\n",
      "output_values\n",
      "{'messages': [HumanMessage(content='Hi, my name is Shaun and I like teaching', additional_kwargs={}, response_metadata={}, id='d95266b1-1394-4a83-84db-dbd29984c37c'), AIMessage(content=\"Hi Shaun! It's great to meet you! Teaching is a wonderful profession, and I'm sure you make a positive impact on your students' lives. What subject or age group do you enjoy teaching the most?\", additional_kwargs={}, response_metadata={'token_usage': {'completion_tokens': 44, 'prompt_tokens': 20, 'total_tokens': 64, 'completion_time': 0.125714286, 'prompt_time': 0.000251366, 'queue_time': 0.210419163, 'total_time': 0.125965652}, 'model_name': 'llama3-70b-8192', 'system_fingerprint': 'fp_dd4ae1c591', 'finish_reason': 'stop', 'logprobs': None}, id='run--44d7fdd1-699d-4c0c-a113-ed29fb3eae4b-0', usage_metadata={'input_tokens': 20, 'output_tokens': 44, 'total_tokens': 64}), HumanMessage(content='Hi, my name is Shaun and I like teaching', additional_kwargs={}, response_metadata={}, id='41784172-3c50-4361-bd39-e3ceaca934e1'), AIMessage(content=\"Hi Shaun! It's great to meet you! Teaching is a wonderful profession, and I'm sure you make a positive impact on your students' lives. What inspired you to become a teacher, and what's your favorite part about teaching?\", additional_kwargs={}, response_metadata={'token_usage': {'completion_tokens': 49, 'prompt_tokens': 83, 'total_tokens': 132, 'completion_time': 0.14, 'prompt_time': 0.002256942, 'queue_time': 0.210628715, 'total_time': 0.142256942}, 'model_name': 'llama3-70b-8192', 'system_fingerprint': 'fp_dd4ae1c591', 'finish_reason': 'stop', 'logprobs': None}, id='run--d7dc64fd-447e-4296-a661-3b183f1e467c-0', usage_metadata={'input_tokens': 83, 'output_tokens': 49, 'total_tokens': 132}), HumanMessage(content='Hi, my name is Shaun and I like teaching', additional_kwargs={}, response_metadata={}, id='fcc5339b-6ecd-49aa-b284-2e2ec67f6e7a'), AIMessage(content=\"Hi Shaun! It's great to meet you! Teaching is a wonderful profession, and I'm sure you make a positive impact on your students' lives. Do you have a particular subject or grade level that you're passionate about teaching, or a specific teaching method that you find most effective?\", additional_kwargs={}, response_metadata={'token_usage': {'completion_tokens': 59, 'prompt_tokens': 151, 'total_tokens': 210, 'completion_time': 0.168571429, 'prompt_time': 0.004875799, 'queue_time': 0.21106228300000002, 'total_time': 0.173447228}, 'model_name': 'llama3-70b-8192', 'system_fingerprint': 'fp_dd4ae1c591', 'finish_reason': 'stop', 'logprobs': None}, id='run--40138839-a235-418b-a507-8f51237e0382-0', usage_metadata={'input_tokens': 151, 'output_tokens': 59, 'total_tokens': 210}), HumanMessage(content='Hi, my name is Shaun and I like teaching', additional_kwargs={}, response_metadata={}, id='d0bff5c8-82fb-4249-a7ac-7c2ddcad2de0'), AIMessage(content=\"Hi Shaun! It's great to meet you! I'm starting to think we're going to have a great conversation about teaching! What do you think is the most rewarding part of being a teacher? Is it seeing your students learn and grow, or something else entirely?\", additional_kwargs={}, response_metadata={'token_usage': {'completion_tokens': 55, 'prompt_tokens': 229, 'total_tokens': 284, 'completion_time': 0.175253632, 'prompt_time': 0.007683024, 'queue_time': 0.21134983499999999, 'total_time': 0.182936656}, 'model_name': 'llama3-70b-8192', 'system_fingerprint': 'fp_dd4ae1c591', 'finish_reason': 'stop', 'logprobs': None}, id='run--abc98d99-d6e2-42fb-8fee-97b60924f431-0', usage_metadata={'input_tokens': 229, 'output_tokens': 55, 'total_tokens': 284}), HumanMessage(content='Hi, my name is Shaun and I like teaching', additional_kwargs={}, response_metadata={}, id='1593acbe-6800-4c25-bc72-4dec41353183'), AIMessage(content=\"Hi Shaun! It's great to meet you! I think we've established that you like teaching, but I want to know more! What do you like to do in your free time? Do you have any hobbies or interests outside of the classroom that help you relax and recharge?\", additional_kwargs={}, response_metadata={'token_usage': {'completion_tokens': 57, 'prompt_tokens': 303, 'total_tokens': 360, 'completion_time': 0.238751016, 'prompt_time': 0.011782176, 'queue_time': 0.211010767, 'total_time': 0.250533192}, 'model_name': 'llama3-70b-8192', 'system_fingerprint': 'fp_dd4ae1c591', 'finish_reason': 'stop', 'logprobs': None}, id='run--475b3031-ef42-4ac9-af5e-68996477f43f-0', usage_metadata={'input_tokens': 303, 'output_tokens': 57, 'total_tokens': 360}), HumanMessage(content='Hi, my name is Shaun and I like teaching', additional_kwargs={}, response_metadata={}, id='476eba56-4f32-43cf-b16e-134752bc77c5'), AIMessage(content=\"Hi Shaun! It's great to meet you! I think we've had a great conversation starter, but I want to mix things up a bit! If you could teach anywhere in the world, where would you go and why? Would you want to teach in a different country, or maybe even in a unique setting like a museum or outdoor classroom?\", additional_kwargs={}, response_metadata={'token_usage': {'completion_tokens': 71, 'prompt_tokens': 379, 'total_tokens': 450, 'completion_time': 0.23189774, 'prompt_time': 0.012118961, 'queue_time': 0.21095419199999998, 'total_time': 0.244016701}, 'model_name': 'llama3-70b-8192', 'system_fingerprint': 'fp_dd4ae1c591', 'finish_reason': 'stop', 'logprobs': None}, id='run--0c5bdd17-3605-4b82-af9d-cb5eb81d0226-0', usage_metadata={'input_tokens': 379, 'output_tokens': 71, 'total_tokens': 450}), HumanMessage(content='Hi, my name is Shaun and I like teaching', additional_kwargs={}, response_metadata={}, id='b3c51f8b-8b54-4244-b6c1-57861906ea65')]}\n",
      "{'messages': [HumanMessage(content='Hi, my name is Shaun and I like teaching', additional_kwargs={}, response_metadata={}, id='d95266b1-1394-4a83-84db-dbd29984c37c'), AIMessage(content=\"Hi Shaun! It's great to meet you! Teaching is a wonderful profession, and I'm sure you make a positive impact on your students' lives. What subject or age group do you enjoy teaching the most?\", additional_kwargs={}, response_metadata={'token_usage': {'completion_tokens': 44, 'prompt_tokens': 20, 'total_tokens': 64, 'completion_time': 0.125714286, 'prompt_time': 0.000251366, 'queue_time': 0.210419163, 'total_time': 0.125965652}, 'model_name': 'llama3-70b-8192', 'system_fingerprint': 'fp_dd4ae1c591', 'finish_reason': 'stop', 'logprobs': None}, id='run--44d7fdd1-699d-4c0c-a113-ed29fb3eae4b-0', usage_metadata={'input_tokens': 20, 'output_tokens': 44, 'total_tokens': 64}), HumanMessage(content='Hi, my name is Shaun and I like teaching', additional_kwargs={}, response_metadata={}, id='41784172-3c50-4361-bd39-e3ceaca934e1'), AIMessage(content=\"Hi Shaun! It's great to meet you! Teaching is a wonderful profession, and I'm sure you make a positive impact on your students' lives. What inspired you to become a teacher, and what's your favorite part about teaching?\", additional_kwargs={}, response_metadata={'token_usage': {'completion_tokens': 49, 'prompt_tokens': 83, 'total_tokens': 132, 'completion_time': 0.14, 'prompt_time': 0.002256942, 'queue_time': 0.210628715, 'total_time': 0.142256942}, 'model_name': 'llama3-70b-8192', 'system_fingerprint': 'fp_dd4ae1c591', 'finish_reason': 'stop', 'logprobs': None}, id='run--d7dc64fd-447e-4296-a661-3b183f1e467c-0', usage_metadata={'input_tokens': 83, 'output_tokens': 49, 'total_tokens': 132}), HumanMessage(content='Hi, my name is Shaun and I like teaching', additional_kwargs={}, response_metadata={}, id='fcc5339b-6ecd-49aa-b284-2e2ec67f6e7a'), AIMessage(content=\"Hi Shaun! It's great to meet you! Teaching is a wonderful profession, and I'm sure you make a positive impact on your students' lives. Do you have a particular subject or grade level that you're passionate about teaching, or a specific teaching method that you find most effective?\", additional_kwargs={}, response_metadata={'token_usage': {'completion_tokens': 59, 'prompt_tokens': 151, 'total_tokens': 210, 'completion_time': 0.168571429, 'prompt_time': 0.004875799, 'queue_time': 0.21106228300000002, 'total_time': 0.173447228}, 'model_name': 'llama3-70b-8192', 'system_fingerprint': 'fp_dd4ae1c591', 'finish_reason': 'stop', 'logprobs': None}, id='run--40138839-a235-418b-a507-8f51237e0382-0', usage_metadata={'input_tokens': 151, 'output_tokens': 59, 'total_tokens': 210}), HumanMessage(content='Hi, my name is Shaun and I like teaching', additional_kwargs={}, response_metadata={}, id='d0bff5c8-82fb-4249-a7ac-7c2ddcad2de0'), AIMessage(content=\"Hi Shaun! It's great to meet you! I'm starting to think we're going to have a great conversation about teaching! What do you think is the most rewarding part of being a teacher? Is it seeing your students learn and grow, or something else entirely?\", additional_kwargs={}, response_metadata={'token_usage': {'completion_tokens': 55, 'prompt_tokens': 229, 'total_tokens': 284, 'completion_time': 0.175253632, 'prompt_time': 0.007683024, 'queue_time': 0.21134983499999999, 'total_time': 0.182936656}, 'model_name': 'llama3-70b-8192', 'system_fingerprint': 'fp_dd4ae1c591', 'finish_reason': 'stop', 'logprobs': None}, id='run--abc98d99-d6e2-42fb-8fee-97b60924f431-0', usage_metadata={'input_tokens': 229, 'output_tokens': 55, 'total_tokens': 284}), HumanMessage(content='Hi, my name is Shaun and I like teaching', additional_kwargs={}, response_metadata={}, id='1593acbe-6800-4c25-bc72-4dec41353183'), AIMessage(content=\"Hi Shaun! It's great to meet you! I think we've established that you like teaching, but I want to know more! What do you like to do in your free time? Do you have any hobbies or interests outside of the classroom that help you relax and recharge?\", additional_kwargs={}, response_metadata={'token_usage': {'completion_tokens': 57, 'prompt_tokens': 303, 'total_tokens': 360, 'completion_time': 0.238751016, 'prompt_time': 0.011782176, 'queue_time': 0.211010767, 'total_time': 0.250533192}, 'model_name': 'llama3-70b-8192', 'system_fingerprint': 'fp_dd4ae1c591', 'finish_reason': 'stop', 'logprobs': None}, id='run--475b3031-ef42-4ac9-af5e-68996477f43f-0', usage_metadata={'input_tokens': 303, 'output_tokens': 57, 'total_tokens': 360}), HumanMessage(content='Hi, my name is Shaun and I like teaching', additional_kwargs={}, response_metadata={}, id='476eba56-4f32-43cf-b16e-134752bc77c5'), AIMessage(content=\"Hi Shaun! It's great to meet you! I think we've had a great conversation starter, but I want to mix things up a bit! If you could teach anywhere in the world, where would you go and why? Would you want to teach in a different country, or maybe even in a unique setting like a museum or outdoor classroom?\", additional_kwargs={}, response_metadata={'token_usage': {'completion_tokens': 71, 'prompt_tokens': 379, 'total_tokens': 450, 'completion_time': 0.23189774, 'prompt_time': 0.012118961, 'queue_time': 0.21095419199999998, 'total_time': 0.244016701}, 'model_name': 'llama3-70b-8192', 'system_fingerprint': 'fp_dd4ae1c591', 'finish_reason': 'stop', 'logprobs': None}, id='run--0c5bdd17-3605-4b82-af9d-cb5eb81d0226-0', usage_metadata={'input_tokens': 379, 'output_tokens': 71, 'total_tokens': 450}), HumanMessage(content='Hi, my name is Shaun and I like teaching', additional_kwargs={}, response_metadata={}, id='b3c51f8b-8b54-4244-b6c1-57861906ea65'), AIMessage(content=\"Hi Shaun! It's great to meet you! I think we've had a great conversation, but I want to try something a bit different! Let's play a game! If you could have any superpower to help you with your teaching, what would it be and why? Would you want to be able to teleport to different parts of the classroom, or maybe have the ability to make your lessons come to life?\", additional_kwargs={}, response_metadata={'token_usage': {'completion_tokens': 85, 'prompt_tokens': 469, 'total_tokens': 554, 'completion_time': 0.254789394, 'prompt_time': 0.015557304, 'queue_time': 0.210934531, 'total_time': 0.270346698}, 'model_name': 'llama3-70b-8192', 'system_fingerprint': 'fp_dd4ae1c591', 'finish_reason': 'stop', 'logprobs': None}, id='run--9b263d59-ae94-40f6-b13a-06e94c96e709-0', usage_metadata={'input_tokens': 469, 'output_tokens': 85, 'total_tokens': 554})]}\n"
     ]
    }
   ],
   "source": [
    "#creating another thread\n",
    "config = {\"configurable\": {\"thread_id\":\"3\"}}\n",
    "\n",
    "print(\"\\noutput_updates\")\n",
    "for chunk in graph.stream({\"messages\":\"Hi, my name is Shaun and I like teaching\"}, config, stream_mode = \"updates\" ):\n",
    "    #gives the last message from the AI\n",
    "    print(chunk)\n",
    "\n",
    "print(\"\\noutput_values\")\n",
    "for chunk in graph.stream({\"messages\":\"Hi, my name is Shaun and I like teaching\"}, config, stream_mode = \"values\" ):\n",
    "    #appends all the messages(conversation)\n",
    "    print(chunk)"
   ]
  },
  {
   "cell_type": "code",
   "execution_count": 54,
   "id": "d9e62b82",
   "metadata": {},
   "outputs": [
    {
     "name": "stdout",
     "output_type": "stream",
     "text": [
      "\n",
      "output_updates\n",
      "{'superbot': {'messages': [AIMessage(content=\"Hi Shaun! We've met before! You mentioned you like teaching, and we also discussed your interest in football. How's your week going so far? Have you had any exciting lessons or football matches recently?\", additional_kwargs={}, response_metadata={'token_usage': {'completion_tokens': 43, 'prompt_tokens': 156, 'total_tokens': 199, 'completion_time': 0.177355453, 'prompt_time': 0.005078947, 'queue_time': 0.210648598, 'total_time': 0.1824344}, 'model_name': 'llama3-70b-8192', 'system_fingerprint': 'fp_dd4ae1c591', 'finish_reason': 'stop', 'logprobs': None}, id='run--8cd4beda-488e-4542-b907-d246f5c60e69-0', usage_metadata={'input_tokens': 156, 'output_tokens': 43, 'total_tokens': 199})]}}\n"
     ]
    }
   ],
   "source": [
    "#creating a new thread\n",
    "config = {\"configurable\": {\"thread_id\":\"4\"}}\n",
    "\n",
    "print(\"\\noutput_updates\")\n",
    "for chunk in graph.stream({\"messages\":\"Hi, my name is Shaun and I like teaching\"}, config, stream_mode = \"updates\" ):\n",
    "    #gives the last message from the AI\n",
    "    print(chunk)"
   ]
  },
  {
   "cell_type": "code",
   "execution_count": 55,
   "id": "43fcce5e",
   "metadata": {},
   "outputs": [
    {
     "name": "stdout",
     "output_type": "stream",
     "text": [
      "{'messages': [HumanMessage(content='Hi, my name is Shaun and I like teaching', additional_kwargs={}, response_metadata={}, id='4ea6317a-0b59-40bf-9fe2-bf8ab6401da1'), AIMessage(content=\"Hi Shaun! It's great to meet you! Teaching is a wonderful profession that requires patience, dedication, and a passion for helping others learn and grow. What subjects or age groups do you enjoy teaching the most?\", additional_kwargs={}, response_metadata={'token_usage': {'completion_tokens': 44, 'prompt_tokens': 20, 'total_tokens': 64, 'completion_time': 0.133049823, 'prompt_time': 0.000265776, 'queue_time': 0.215101238, 'total_time': 0.133315599}, 'model_name': 'llama3-70b-8192', 'system_fingerprint': 'fp_dd4ae1c591', 'finish_reason': 'stop', 'logprobs': None}, id='run--a3b407b8-5413-4f4f-95db-ef18fb60f814-0', usage_metadata={'input_tokens': 20, 'output_tokens': 44, 'total_tokens': 64}), HumanMessage(content='I also like football', additional_kwargs={}, response_metadata={}, id='46ed4f4b-fc28-4a7c-ae2d-0a17afc5fdd6'), AIMessage(content='Cool! Football (or soccer) is an amazing sport! Do you have a favorite team or player? Are you a fan of the Premier League, La Liga, or another league?\\n\\nAnd, do you find that your passion for football helps you connect with your students or colleagues in any way?', additional_kwargs={}, response_metadata={'token_usage': {'completion_tokens': 60, 'prompt_tokens': 77, 'total_tokens': 137, 'completion_time': 0.228691857, 'prompt_time': 0.002127463, 'queue_time': 0.019218739000000002, 'total_time': 0.23081932}, 'model_name': 'llama3-70b-8192', 'system_fingerprint': 'fp_2de508bbce', 'finish_reason': 'stop', 'logprobs': None}, id='run--dc26970d-9a0e-492b-9fe9-159aa4b8a88f-0', usage_metadata={'input_tokens': 77, 'output_tokens': 60, 'total_tokens': 137}), HumanMessage(content='Hi, my name is Shaun and I like teaching', additional_kwargs={}, response_metadata={}, id='cb1386fd-f2d4-4e65-8a9f-f0b7a64685ab'), AIMessage(content=\"Hi Shaun! We've met before! You mentioned you like teaching, and we also discussed your interest in football. How's your week going so far? Have you had any exciting lessons or football matches recently?\", additional_kwargs={}, response_metadata={'token_usage': {'completion_tokens': 43, 'prompt_tokens': 156, 'total_tokens': 199, 'completion_time': 0.177355453, 'prompt_time': 0.005078947, 'queue_time': 0.210648598, 'total_time': 0.1824344}, 'model_name': 'llama3-70b-8192', 'system_fingerprint': 'fp_dd4ae1c591', 'finish_reason': 'stop', 'logprobs': None}, id='run--8cd4beda-488e-4542-b907-d246f5c60e69-0', usage_metadata={'input_tokens': 156, 'output_tokens': 43, 'total_tokens': 199}), HumanMessage(content='I also like football', additional_kwargs={}, response_metadata={}, id='c3c1c995-bd5c-44c5-8854-da1b2e4b37e2')]}\n",
      "{'messages': [HumanMessage(content='Hi, my name is Shaun and I like teaching', additional_kwargs={}, response_metadata={}, id='4ea6317a-0b59-40bf-9fe2-bf8ab6401da1'), AIMessage(content=\"Hi Shaun! It's great to meet you! Teaching is a wonderful profession that requires patience, dedication, and a passion for helping others learn and grow. What subjects or age groups do you enjoy teaching the most?\", additional_kwargs={}, response_metadata={'token_usage': {'completion_tokens': 44, 'prompt_tokens': 20, 'total_tokens': 64, 'completion_time': 0.133049823, 'prompt_time': 0.000265776, 'queue_time': 0.215101238, 'total_time': 0.133315599}, 'model_name': 'llama3-70b-8192', 'system_fingerprint': 'fp_dd4ae1c591', 'finish_reason': 'stop', 'logprobs': None}, id='run--a3b407b8-5413-4f4f-95db-ef18fb60f814-0', usage_metadata={'input_tokens': 20, 'output_tokens': 44, 'total_tokens': 64}), HumanMessage(content='I also like football', additional_kwargs={}, response_metadata={}, id='46ed4f4b-fc28-4a7c-ae2d-0a17afc5fdd6'), AIMessage(content='Cool! Football (or soccer) is an amazing sport! Do you have a favorite team or player? Are you a fan of the Premier League, La Liga, or another league?\\n\\nAnd, do you find that your passion for football helps you connect with your students or colleagues in any way?', additional_kwargs={}, response_metadata={'token_usage': {'completion_tokens': 60, 'prompt_tokens': 77, 'total_tokens': 137, 'completion_time': 0.228691857, 'prompt_time': 0.002127463, 'queue_time': 0.019218739000000002, 'total_time': 0.23081932}, 'model_name': 'llama3-70b-8192', 'system_fingerprint': 'fp_2de508bbce', 'finish_reason': 'stop', 'logprobs': None}, id='run--dc26970d-9a0e-492b-9fe9-159aa4b8a88f-0', usage_metadata={'input_tokens': 77, 'output_tokens': 60, 'total_tokens': 137}), HumanMessage(content='Hi, my name is Shaun and I like teaching', additional_kwargs={}, response_metadata={}, id='cb1386fd-f2d4-4e65-8a9f-f0b7a64685ab'), AIMessage(content=\"Hi Shaun! We've met before! You mentioned you like teaching, and we also discussed your interest in football. How's your week going so far? Have you had any exciting lessons or football matches recently?\", additional_kwargs={}, response_metadata={'token_usage': {'completion_tokens': 43, 'prompt_tokens': 156, 'total_tokens': 199, 'completion_time': 0.177355453, 'prompt_time': 0.005078947, 'queue_time': 0.210648598, 'total_time': 0.1824344}, 'model_name': 'llama3-70b-8192', 'system_fingerprint': 'fp_dd4ae1c591', 'finish_reason': 'stop', 'logprobs': None}, id='run--8cd4beda-488e-4542-b907-d246f5c60e69-0', usage_metadata={'input_tokens': 156, 'output_tokens': 43, 'total_tokens': 199}), HumanMessage(content='I also like football', additional_kwargs={}, response_metadata={}, id='c3c1c995-bd5c-44c5-8854-da1b2e4b37e2'), AIMessage(content=\"Déjà vu! We already talked about your love for football, Shaun! But I'm happy to chat about it again! Have you been following any recent tournaments or matches? Are you looking forward to any upcoming games?\", additional_kwargs={}, response_metadata={'token_usage': {'completion_tokens': 45, 'prompt_tokens': 212, 'total_tokens': 257, 'completion_time': 0.18489307, 'prompt_time': 0.006336706, 'queue_time': 0.210793027, 'total_time': 0.191229776}, 'model_name': 'llama3-70b-8192', 'system_fingerprint': 'fp_dd4ae1c591', 'finish_reason': 'stop', 'logprobs': None}, id='run--7a3dca41-fe1a-4b05-8d5a-526694c79da9-0', usage_metadata={'input_tokens': 212, 'output_tokens': 45, 'total_tokens': 257})]}\n"
     ]
    }
   ],
   "source": [
    "for chunk in graph.stream({\"messages\":\"I also like football\"}, config, stream_mode = \"values\" ):\n",
    "    #gives the last message from the AI\n",
    "    print(chunk)"
   ]
  },
  {
   "cell_type": "markdown",
   "id": "d6271682",
   "metadata": {},
   "source": [
    "#### Using Async method"
   ]
  },
  {
   "cell_type": "code",
   "execution_count": 57,
   "id": "0e0c00d5",
   "metadata": {},
   "outputs": [
    {
     "name": "stdout",
     "output_type": "stream",
     "text": [
      "{'event': 'on_chain_start', 'data': {'input': {'messages': ['Hi my name is Shaun and I like teaching']}}, 'name': 'LangGraph', 'tags': [], 'run_id': '4b086342-1e9b-4950-8ec8-7293ee69f3e9', 'metadata': {'thread_id': '5'}, 'parent_ids': []}\n",
      "{'event': 'on_chain_start', 'data': {'input': {'messages': [HumanMessage(content='Hi my name is Shaun and I like teaching', additional_kwargs={}, response_metadata={}, id='0013be81-ebd3-47df-b828-ec60485cbb46')]}}, 'name': 'superbot', 'tags': ['graph:step:1'], 'run_id': '244c0cd4-8a98-4053-b590-e0d03dd2a9be', 'metadata': {'thread_id': '5', 'langgraph_step': 1, 'langgraph_node': 'superbot', 'langgraph_triggers': ('branch:to:superbot',), 'langgraph_path': ('__pregel_pull', 'superbot'), 'langgraph_checkpoint_ns': 'superbot:06490483-de4d-5a7c-52e3-04c410c7cbcc'}, 'parent_ids': ['4b086342-1e9b-4950-8ec8-7293ee69f3e9']}\n",
      "{'event': 'on_chat_model_start', 'data': {'input': {'messages': [[HumanMessage(content='Hi my name is Shaun and I like teaching', additional_kwargs={}, response_metadata={}, id='0013be81-ebd3-47df-b828-ec60485cbb46')]]}}, 'name': 'ChatGroq', 'tags': ['seq:step:1'], 'run_id': 'e0b9bbf0-55a9-434c-b9ea-646133de4e6f', 'metadata': {'thread_id': '5', 'langgraph_step': 1, 'langgraph_node': 'superbot', 'langgraph_triggers': ('branch:to:superbot',), 'langgraph_path': ('__pregel_pull', 'superbot'), 'langgraph_checkpoint_ns': 'superbot:06490483-de4d-5a7c-52e3-04c410c7cbcc', 'checkpoint_ns': 'superbot:06490483-de4d-5a7c-52e3-04c410c7cbcc', 'ls_provider': 'groq', 'ls_model_name': 'llama3-70b-8192', 'ls_model_type': 'chat', 'ls_temperature': 0.7}, 'parent_ids': ['4b086342-1e9b-4950-8ec8-7293ee69f3e9', '244c0cd4-8a98-4053-b590-e0d03dd2a9be']}\n",
      "{'event': 'on_chat_model_stream', 'data': {'chunk': AIMessageChunk(content='', additional_kwargs={}, response_metadata={}, id='run--e0b9bbf0-55a9-434c-b9ea-646133de4e6f')}, 'run_id': 'e0b9bbf0-55a9-434c-b9ea-646133de4e6f', 'name': 'ChatGroq', 'tags': ['seq:step:1'], 'metadata': {'thread_id': '5', 'langgraph_step': 1, 'langgraph_node': 'superbot', 'langgraph_triggers': ('branch:to:superbot',), 'langgraph_path': ('__pregel_pull', 'superbot'), 'langgraph_checkpoint_ns': 'superbot:06490483-de4d-5a7c-52e3-04c410c7cbcc', 'checkpoint_ns': 'superbot:06490483-de4d-5a7c-52e3-04c410c7cbcc', 'ls_provider': 'groq', 'ls_model_name': 'llama3-70b-8192', 'ls_model_type': 'chat', 'ls_temperature': 0.7}, 'parent_ids': ['4b086342-1e9b-4950-8ec8-7293ee69f3e9', '244c0cd4-8a98-4053-b590-e0d03dd2a9be']}\n",
      "{'event': 'on_chat_model_stream', 'data': {'chunk': AIMessageChunk(content='Hi', additional_kwargs={}, response_metadata={}, id='run--e0b9bbf0-55a9-434c-b9ea-646133de4e6f')}, 'run_id': 'e0b9bbf0-55a9-434c-b9ea-646133de4e6f', 'name': 'ChatGroq', 'tags': ['seq:step:1'], 'metadata': {'thread_id': '5', 'langgraph_step': 1, 'langgraph_node': 'superbot', 'langgraph_triggers': ('branch:to:superbot',), 'langgraph_path': ('__pregel_pull', 'superbot'), 'langgraph_checkpoint_ns': 'superbot:06490483-de4d-5a7c-52e3-04c410c7cbcc', 'checkpoint_ns': 'superbot:06490483-de4d-5a7c-52e3-04c410c7cbcc', 'ls_provider': 'groq', 'ls_model_name': 'llama3-70b-8192', 'ls_model_type': 'chat', 'ls_temperature': 0.7}, 'parent_ids': ['4b086342-1e9b-4950-8ec8-7293ee69f3e9', '244c0cd4-8a98-4053-b590-e0d03dd2a9be']}\n",
      "{'event': 'on_chat_model_stream', 'data': {'chunk': AIMessageChunk(content=' Shaun', additional_kwargs={}, response_metadata={}, id='run--e0b9bbf0-55a9-434c-b9ea-646133de4e6f')}, 'run_id': 'e0b9bbf0-55a9-434c-b9ea-646133de4e6f', 'name': 'ChatGroq', 'tags': ['seq:step:1'], 'metadata': {'thread_id': '5', 'langgraph_step': 1, 'langgraph_node': 'superbot', 'langgraph_triggers': ('branch:to:superbot',), 'langgraph_path': ('__pregel_pull', 'superbot'), 'langgraph_checkpoint_ns': 'superbot:06490483-de4d-5a7c-52e3-04c410c7cbcc', 'checkpoint_ns': 'superbot:06490483-de4d-5a7c-52e3-04c410c7cbcc', 'ls_provider': 'groq', 'ls_model_name': 'llama3-70b-8192', 'ls_model_type': 'chat', 'ls_temperature': 0.7}, 'parent_ids': ['4b086342-1e9b-4950-8ec8-7293ee69f3e9', '244c0cd4-8a98-4053-b590-e0d03dd2a9be']}\n",
      "{'event': 'on_chat_model_stream', 'data': {'chunk': AIMessageChunk(content='!', additional_kwargs={}, response_metadata={}, id='run--e0b9bbf0-55a9-434c-b9ea-646133de4e6f')}, 'run_id': 'e0b9bbf0-55a9-434c-b9ea-646133de4e6f', 'name': 'ChatGroq', 'tags': ['seq:step:1'], 'metadata': {'thread_id': '5', 'langgraph_step': 1, 'langgraph_node': 'superbot', 'langgraph_triggers': ('branch:to:superbot',), 'langgraph_path': ('__pregel_pull', 'superbot'), 'langgraph_checkpoint_ns': 'superbot:06490483-de4d-5a7c-52e3-04c410c7cbcc', 'checkpoint_ns': 'superbot:06490483-de4d-5a7c-52e3-04c410c7cbcc', 'ls_provider': 'groq', 'ls_model_name': 'llama3-70b-8192', 'ls_model_type': 'chat', 'ls_temperature': 0.7}, 'parent_ids': ['4b086342-1e9b-4950-8ec8-7293ee69f3e9', '244c0cd4-8a98-4053-b590-e0d03dd2a9be']}\n",
      "{'event': 'on_chat_model_stream', 'data': {'chunk': AIMessageChunk(content=' It', additional_kwargs={}, response_metadata={}, id='run--e0b9bbf0-55a9-434c-b9ea-646133de4e6f')}, 'run_id': 'e0b9bbf0-55a9-434c-b9ea-646133de4e6f', 'name': 'ChatGroq', 'tags': ['seq:step:1'], 'metadata': {'thread_id': '5', 'langgraph_step': 1, 'langgraph_node': 'superbot', 'langgraph_triggers': ('branch:to:superbot',), 'langgraph_path': ('__pregel_pull', 'superbot'), 'langgraph_checkpoint_ns': 'superbot:06490483-de4d-5a7c-52e3-04c410c7cbcc', 'checkpoint_ns': 'superbot:06490483-de4d-5a7c-52e3-04c410c7cbcc', 'ls_provider': 'groq', 'ls_model_name': 'llama3-70b-8192', 'ls_model_type': 'chat', 'ls_temperature': 0.7}, 'parent_ids': ['4b086342-1e9b-4950-8ec8-7293ee69f3e9', '244c0cd4-8a98-4053-b590-e0d03dd2a9be']}\n",
      "{'event': 'on_chat_model_stream', 'data': {'chunk': AIMessageChunk(content=\"'s\", additional_kwargs={}, response_metadata={}, id='run--e0b9bbf0-55a9-434c-b9ea-646133de4e6f')}, 'run_id': 'e0b9bbf0-55a9-434c-b9ea-646133de4e6f', 'name': 'ChatGroq', 'tags': ['seq:step:1'], 'metadata': {'thread_id': '5', 'langgraph_step': 1, 'langgraph_node': 'superbot', 'langgraph_triggers': ('branch:to:superbot',), 'langgraph_path': ('__pregel_pull', 'superbot'), 'langgraph_checkpoint_ns': 'superbot:06490483-de4d-5a7c-52e3-04c410c7cbcc', 'checkpoint_ns': 'superbot:06490483-de4d-5a7c-52e3-04c410c7cbcc', 'ls_provider': 'groq', 'ls_model_name': 'llama3-70b-8192', 'ls_model_type': 'chat', 'ls_temperature': 0.7}, 'parent_ids': ['4b086342-1e9b-4950-8ec8-7293ee69f3e9', '244c0cd4-8a98-4053-b590-e0d03dd2a9be']}\n",
      "{'event': 'on_chat_model_stream', 'data': {'chunk': AIMessageChunk(content=' great', additional_kwargs={}, response_metadata={}, id='run--e0b9bbf0-55a9-434c-b9ea-646133de4e6f')}, 'run_id': 'e0b9bbf0-55a9-434c-b9ea-646133de4e6f', 'name': 'ChatGroq', 'tags': ['seq:step:1'], 'metadata': {'thread_id': '5', 'langgraph_step': 1, 'langgraph_node': 'superbot', 'langgraph_triggers': ('branch:to:superbot',), 'langgraph_path': ('__pregel_pull', 'superbot'), 'langgraph_checkpoint_ns': 'superbot:06490483-de4d-5a7c-52e3-04c410c7cbcc', 'checkpoint_ns': 'superbot:06490483-de4d-5a7c-52e3-04c410c7cbcc', 'ls_provider': 'groq', 'ls_model_name': 'llama3-70b-8192', 'ls_model_type': 'chat', 'ls_temperature': 0.7}, 'parent_ids': ['4b086342-1e9b-4950-8ec8-7293ee69f3e9', '244c0cd4-8a98-4053-b590-e0d03dd2a9be']}\n",
      "{'event': 'on_chat_model_stream', 'data': {'chunk': AIMessageChunk(content=' to', additional_kwargs={}, response_metadata={}, id='run--e0b9bbf0-55a9-434c-b9ea-646133de4e6f')}, 'run_id': 'e0b9bbf0-55a9-434c-b9ea-646133de4e6f', 'name': 'ChatGroq', 'tags': ['seq:step:1'], 'metadata': {'thread_id': '5', 'langgraph_step': 1, 'langgraph_node': 'superbot', 'langgraph_triggers': ('branch:to:superbot',), 'langgraph_path': ('__pregel_pull', 'superbot'), 'langgraph_checkpoint_ns': 'superbot:06490483-de4d-5a7c-52e3-04c410c7cbcc', 'checkpoint_ns': 'superbot:06490483-de4d-5a7c-52e3-04c410c7cbcc', 'ls_provider': 'groq', 'ls_model_name': 'llama3-70b-8192', 'ls_model_type': 'chat', 'ls_temperature': 0.7}, 'parent_ids': ['4b086342-1e9b-4950-8ec8-7293ee69f3e9', '244c0cd4-8a98-4053-b590-e0d03dd2a9be']}\n",
      "{'event': 'on_chat_model_stream', 'data': {'chunk': AIMessageChunk(content=' meet', additional_kwargs={}, response_metadata={}, id='run--e0b9bbf0-55a9-434c-b9ea-646133de4e6f')}, 'run_id': 'e0b9bbf0-55a9-434c-b9ea-646133de4e6f', 'name': 'ChatGroq', 'tags': ['seq:step:1'], 'metadata': {'thread_id': '5', 'langgraph_step': 1, 'langgraph_node': 'superbot', 'langgraph_triggers': ('branch:to:superbot',), 'langgraph_path': ('__pregel_pull', 'superbot'), 'langgraph_checkpoint_ns': 'superbot:06490483-de4d-5a7c-52e3-04c410c7cbcc', 'checkpoint_ns': 'superbot:06490483-de4d-5a7c-52e3-04c410c7cbcc', 'ls_provider': 'groq', 'ls_model_name': 'llama3-70b-8192', 'ls_model_type': 'chat', 'ls_temperature': 0.7}, 'parent_ids': ['4b086342-1e9b-4950-8ec8-7293ee69f3e9', '244c0cd4-8a98-4053-b590-e0d03dd2a9be']}\n",
      "{'event': 'on_chat_model_stream', 'data': {'chunk': AIMessageChunk(content=' you', additional_kwargs={}, response_metadata={}, id='run--e0b9bbf0-55a9-434c-b9ea-646133de4e6f')}, 'run_id': 'e0b9bbf0-55a9-434c-b9ea-646133de4e6f', 'name': 'ChatGroq', 'tags': ['seq:step:1'], 'metadata': {'thread_id': '5', 'langgraph_step': 1, 'langgraph_node': 'superbot', 'langgraph_triggers': ('branch:to:superbot',), 'langgraph_path': ('__pregel_pull', 'superbot'), 'langgraph_checkpoint_ns': 'superbot:06490483-de4d-5a7c-52e3-04c410c7cbcc', 'checkpoint_ns': 'superbot:06490483-de4d-5a7c-52e3-04c410c7cbcc', 'ls_provider': 'groq', 'ls_model_name': 'llama3-70b-8192', 'ls_model_type': 'chat', 'ls_temperature': 0.7}, 'parent_ids': ['4b086342-1e9b-4950-8ec8-7293ee69f3e9', '244c0cd4-8a98-4053-b590-e0d03dd2a9be']}\n",
      "{'event': 'on_chat_model_stream', 'data': {'chunk': AIMessageChunk(content='!', additional_kwargs={}, response_metadata={}, id='run--e0b9bbf0-55a9-434c-b9ea-646133de4e6f')}, 'run_id': 'e0b9bbf0-55a9-434c-b9ea-646133de4e6f', 'name': 'ChatGroq', 'tags': ['seq:step:1'], 'metadata': {'thread_id': '5', 'langgraph_step': 1, 'langgraph_node': 'superbot', 'langgraph_triggers': ('branch:to:superbot',), 'langgraph_path': ('__pregel_pull', 'superbot'), 'langgraph_checkpoint_ns': 'superbot:06490483-de4d-5a7c-52e3-04c410c7cbcc', 'checkpoint_ns': 'superbot:06490483-de4d-5a7c-52e3-04c410c7cbcc', 'ls_provider': 'groq', 'ls_model_name': 'llama3-70b-8192', 'ls_model_type': 'chat', 'ls_temperature': 0.7}, 'parent_ids': ['4b086342-1e9b-4950-8ec8-7293ee69f3e9', '244c0cd4-8a98-4053-b590-e0d03dd2a9be']}\n",
      "{'event': 'on_chat_model_stream', 'data': {'chunk': AIMessageChunk(content=' Teaching', additional_kwargs={}, response_metadata={}, id='run--e0b9bbf0-55a9-434c-b9ea-646133de4e6f')}, 'run_id': 'e0b9bbf0-55a9-434c-b9ea-646133de4e6f', 'name': 'ChatGroq', 'tags': ['seq:step:1'], 'metadata': {'thread_id': '5', 'langgraph_step': 1, 'langgraph_node': 'superbot', 'langgraph_triggers': ('branch:to:superbot',), 'langgraph_path': ('__pregel_pull', 'superbot'), 'langgraph_checkpoint_ns': 'superbot:06490483-de4d-5a7c-52e3-04c410c7cbcc', 'checkpoint_ns': 'superbot:06490483-de4d-5a7c-52e3-04c410c7cbcc', 'ls_provider': 'groq', 'ls_model_name': 'llama3-70b-8192', 'ls_model_type': 'chat', 'ls_temperature': 0.7}, 'parent_ids': ['4b086342-1e9b-4950-8ec8-7293ee69f3e9', '244c0cd4-8a98-4053-b590-e0d03dd2a9be']}\n",
      "{'event': 'on_chat_model_stream', 'data': {'chunk': AIMessageChunk(content=' is', additional_kwargs={}, response_metadata={}, id='run--e0b9bbf0-55a9-434c-b9ea-646133de4e6f')}, 'run_id': 'e0b9bbf0-55a9-434c-b9ea-646133de4e6f', 'name': 'ChatGroq', 'tags': ['seq:step:1'], 'metadata': {'thread_id': '5', 'langgraph_step': 1, 'langgraph_node': 'superbot', 'langgraph_triggers': ('branch:to:superbot',), 'langgraph_path': ('__pregel_pull', 'superbot'), 'langgraph_checkpoint_ns': 'superbot:06490483-de4d-5a7c-52e3-04c410c7cbcc', 'checkpoint_ns': 'superbot:06490483-de4d-5a7c-52e3-04c410c7cbcc', 'ls_provider': 'groq', 'ls_model_name': 'llama3-70b-8192', 'ls_model_type': 'chat', 'ls_temperature': 0.7}, 'parent_ids': ['4b086342-1e9b-4950-8ec8-7293ee69f3e9', '244c0cd4-8a98-4053-b590-e0d03dd2a9be']}\n",
      "{'event': 'on_chat_model_stream', 'data': {'chunk': AIMessageChunk(content=' a', additional_kwargs={}, response_metadata={}, id='run--e0b9bbf0-55a9-434c-b9ea-646133de4e6f')}, 'run_id': 'e0b9bbf0-55a9-434c-b9ea-646133de4e6f', 'name': 'ChatGroq', 'tags': ['seq:step:1'], 'metadata': {'thread_id': '5', 'langgraph_step': 1, 'langgraph_node': 'superbot', 'langgraph_triggers': ('branch:to:superbot',), 'langgraph_path': ('__pregel_pull', 'superbot'), 'langgraph_checkpoint_ns': 'superbot:06490483-de4d-5a7c-52e3-04c410c7cbcc', 'checkpoint_ns': 'superbot:06490483-de4d-5a7c-52e3-04c410c7cbcc', 'ls_provider': 'groq', 'ls_model_name': 'llama3-70b-8192', 'ls_model_type': 'chat', 'ls_temperature': 0.7}, 'parent_ids': ['4b086342-1e9b-4950-8ec8-7293ee69f3e9', '244c0cd4-8a98-4053-b590-e0d03dd2a9be']}\n",
      "{'event': 'on_chat_model_stream', 'data': {'chunk': AIMessageChunk(content=' wonderful', additional_kwargs={}, response_metadata={}, id='run--e0b9bbf0-55a9-434c-b9ea-646133de4e6f')}, 'run_id': 'e0b9bbf0-55a9-434c-b9ea-646133de4e6f', 'name': 'ChatGroq', 'tags': ['seq:step:1'], 'metadata': {'thread_id': '5', 'langgraph_step': 1, 'langgraph_node': 'superbot', 'langgraph_triggers': ('branch:to:superbot',), 'langgraph_path': ('__pregel_pull', 'superbot'), 'langgraph_checkpoint_ns': 'superbot:06490483-de4d-5a7c-52e3-04c410c7cbcc', 'checkpoint_ns': 'superbot:06490483-de4d-5a7c-52e3-04c410c7cbcc', 'ls_provider': 'groq', 'ls_model_name': 'llama3-70b-8192', 'ls_model_type': 'chat', 'ls_temperature': 0.7}, 'parent_ids': ['4b086342-1e9b-4950-8ec8-7293ee69f3e9', '244c0cd4-8a98-4053-b590-e0d03dd2a9be']}\n",
      "{'event': 'on_chat_model_stream', 'data': {'chunk': AIMessageChunk(content=' profession', additional_kwargs={}, response_metadata={}, id='run--e0b9bbf0-55a9-434c-b9ea-646133de4e6f')}, 'run_id': 'e0b9bbf0-55a9-434c-b9ea-646133de4e6f', 'name': 'ChatGroq', 'tags': ['seq:step:1'], 'metadata': {'thread_id': '5', 'langgraph_step': 1, 'langgraph_node': 'superbot', 'langgraph_triggers': ('branch:to:superbot',), 'langgraph_path': ('__pregel_pull', 'superbot'), 'langgraph_checkpoint_ns': 'superbot:06490483-de4d-5a7c-52e3-04c410c7cbcc', 'checkpoint_ns': 'superbot:06490483-de4d-5a7c-52e3-04c410c7cbcc', 'ls_provider': 'groq', 'ls_model_name': 'llama3-70b-8192', 'ls_model_type': 'chat', 'ls_temperature': 0.7}, 'parent_ids': ['4b086342-1e9b-4950-8ec8-7293ee69f3e9', '244c0cd4-8a98-4053-b590-e0d03dd2a9be']}\n",
      "{'event': 'on_chat_model_stream', 'data': {'chunk': AIMessageChunk(content=' that', additional_kwargs={}, response_metadata={}, id='run--e0b9bbf0-55a9-434c-b9ea-646133de4e6f')}, 'run_id': 'e0b9bbf0-55a9-434c-b9ea-646133de4e6f', 'name': 'ChatGroq', 'tags': ['seq:step:1'], 'metadata': {'thread_id': '5', 'langgraph_step': 1, 'langgraph_node': 'superbot', 'langgraph_triggers': ('branch:to:superbot',), 'langgraph_path': ('__pregel_pull', 'superbot'), 'langgraph_checkpoint_ns': 'superbot:06490483-de4d-5a7c-52e3-04c410c7cbcc', 'checkpoint_ns': 'superbot:06490483-de4d-5a7c-52e3-04c410c7cbcc', 'ls_provider': 'groq', 'ls_model_name': 'llama3-70b-8192', 'ls_model_type': 'chat', 'ls_temperature': 0.7}, 'parent_ids': ['4b086342-1e9b-4950-8ec8-7293ee69f3e9', '244c0cd4-8a98-4053-b590-e0d03dd2a9be']}\n",
      "{'event': 'on_chat_model_stream', 'data': {'chunk': AIMessageChunk(content=' requires', additional_kwargs={}, response_metadata={}, id='run--e0b9bbf0-55a9-434c-b9ea-646133de4e6f')}, 'run_id': 'e0b9bbf0-55a9-434c-b9ea-646133de4e6f', 'name': 'ChatGroq', 'tags': ['seq:step:1'], 'metadata': {'thread_id': '5', 'langgraph_step': 1, 'langgraph_node': 'superbot', 'langgraph_triggers': ('branch:to:superbot',), 'langgraph_path': ('__pregel_pull', 'superbot'), 'langgraph_checkpoint_ns': 'superbot:06490483-de4d-5a7c-52e3-04c410c7cbcc', 'checkpoint_ns': 'superbot:06490483-de4d-5a7c-52e3-04c410c7cbcc', 'ls_provider': 'groq', 'ls_model_name': 'llama3-70b-8192', 'ls_model_type': 'chat', 'ls_temperature': 0.7}, 'parent_ids': ['4b086342-1e9b-4950-8ec8-7293ee69f3e9', '244c0cd4-8a98-4053-b590-e0d03dd2a9be']}\n",
      "{'event': 'on_chat_model_stream', 'data': {'chunk': AIMessageChunk(content=' patience', additional_kwargs={}, response_metadata={}, id='run--e0b9bbf0-55a9-434c-b9ea-646133de4e6f')}, 'run_id': 'e0b9bbf0-55a9-434c-b9ea-646133de4e6f', 'name': 'ChatGroq', 'tags': ['seq:step:1'], 'metadata': {'thread_id': '5', 'langgraph_step': 1, 'langgraph_node': 'superbot', 'langgraph_triggers': ('branch:to:superbot',), 'langgraph_path': ('__pregel_pull', 'superbot'), 'langgraph_checkpoint_ns': 'superbot:06490483-de4d-5a7c-52e3-04c410c7cbcc', 'checkpoint_ns': 'superbot:06490483-de4d-5a7c-52e3-04c410c7cbcc', 'ls_provider': 'groq', 'ls_model_name': 'llama3-70b-8192', 'ls_model_type': 'chat', 'ls_temperature': 0.7}, 'parent_ids': ['4b086342-1e9b-4950-8ec8-7293ee69f3e9', '244c0cd4-8a98-4053-b590-e0d03dd2a9be']}\n",
      "{'event': 'on_chat_model_stream', 'data': {'chunk': AIMessageChunk(content=',', additional_kwargs={}, response_metadata={}, id='run--e0b9bbf0-55a9-434c-b9ea-646133de4e6f')}, 'run_id': 'e0b9bbf0-55a9-434c-b9ea-646133de4e6f', 'name': 'ChatGroq', 'tags': ['seq:step:1'], 'metadata': {'thread_id': '5', 'langgraph_step': 1, 'langgraph_node': 'superbot', 'langgraph_triggers': ('branch:to:superbot',), 'langgraph_path': ('__pregel_pull', 'superbot'), 'langgraph_checkpoint_ns': 'superbot:06490483-de4d-5a7c-52e3-04c410c7cbcc', 'checkpoint_ns': 'superbot:06490483-de4d-5a7c-52e3-04c410c7cbcc', 'ls_provider': 'groq', 'ls_model_name': 'llama3-70b-8192', 'ls_model_type': 'chat', 'ls_temperature': 0.7}, 'parent_ids': ['4b086342-1e9b-4950-8ec8-7293ee69f3e9', '244c0cd4-8a98-4053-b590-e0d03dd2a9be']}\n",
      "{'event': 'on_chat_model_stream', 'data': {'chunk': AIMessageChunk(content=' dedication', additional_kwargs={}, response_metadata={}, id='run--e0b9bbf0-55a9-434c-b9ea-646133de4e6f')}, 'run_id': 'e0b9bbf0-55a9-434c-b9ea-646133de4e6f', 'name': 'ChatGroq', 'tags': ['seq:step:1'], 'metadata': {'thread_id': '5', 'langgraph_step': 1, 'langgraph_node': 'superbot', 'langgraph_triggers': ('branch:to:superbot',), 'langgraph_path': ('__pregel_pull', 'superbot'), 'langgraph_checkpoint_ns': 'superbot:06490483-de4d-5a7c-52e3-04c410c7cbcc', 'checkpoint_ns': 'superbot:06490483-de4d-5a7c-52e3-04c410c7cbcc', 'ls_provider': 'groq', 'ls_model_name': 'llama3-70b-8192', 'ls_model_type': 'chat', 'ls_temperature': 0.7}, 'parent_ids': ['4b086342-1e9b-4950-8ec8-7293ee69f3e9', '244c0cd4-8a98-4053-b590-e0d03dd2a9be']}\n",
      "{'event': 'on_chat_model_stream', 'data': {'chunk': AIMessageChunk(content=',', additional_kwargs={}, response_metadata={}, id='run--e0b9bbf0-55a9-434c-b9ea-646133de4e6f')}, 'run_id': 'e0b9bbf0-55a9-434c-b9ea-646133de4e6f', 'name': 'ChatGroq', 'tags': ['seq:step:1'], 'metadata': {'thread_id': '5', 'langgraph_step': 1, 'langgraph_node': 'superbot', 'langgraph_triggers': ('branch:to:superbot',), 'langgraph_path': ('__pregel_pull', 'superbot'), 'langgraph_checkpoint_ns': 'superbot:06490483-de4d-5a7c-52e3-04c410c7cbcc', 'checkpoint_ns': 'superbot:06490483-de4d-5a7c-52e3-04c410c7cbcc', 'ls_provider': 'groq', 'ls_model_name': 'llama3-70b-8192', 'ls_model_type': 'chat', 'ls_temperature': 0.7}, 'parent_ids': ['4b086342-1e9b-4950-8ec8-7293ee69f3e9', '244c0cd4-8a98-4053-b590-e0d03dd2a9be']}\n",
      "{'event': 'on_chat_model_stream', 'data': {'chunk': AIMessageChunk(content=' and', additional_kwargs={}, response_metadata={}, id='run--e0b9bbf0-55a9-434c-b9ea-646133de4e6f')}, 'run_id': 'e0b9bbf0-55a9-434c-b9ea-646133de4e6f', 'name': 'ChatGroq', 'tags': ['seq:step:1'], 'metadata': {'thread_id': '5', 'langgraph_step': 1, 'langgraph_node': 'superbot', 'langgraph_triggers': ('branch:to:superbot',), 'langgraph_path': ('__pregel_pull', 'superbot'), 'langgraph_checkpoint_ns': 'superbot:06490483-de4d-5a7c-52e3-04c410c7cbcc', 'checkpoint_ns': 'superbot:06490483-de4d-5a7c-52e3-04c410c7cbcc', 'ls_provider': 'groq', 'ls_model_name': 'llama3-70b-8192', 'ls_model_type': 'chat', 'ls_temperature': 0.7}, 'parent_ids': ['4b086342-1e9b-4950-8ec8-7293ee69f3e9', '244c0cd4-8a98-4053-b590-e0d03dd2a9be']}\n",
      "{'event': 'on_chat_model_stream', 'data': {'chunk': AIMessageChunk(content=' a', additional_kwargs={}, response_metadata={}, id='run--e0b9bbf0-55a9-434c-b9ea-646133de4e6f')}, 'run_id': 'e0b9bbf0-55a9-434c-b9ea-646133de4e6f', 'name': 'ChatGroq', 'tags': ['seq:step:1'], 'metadata': {'thread_id': '5', 'langgraph_step': 1, 'langgraph_node': 'superbot', 'langgraph_triggers': ('branch:to:superbot',), 'langgraph_path': ('__pregel_pull', 'superbot'), 'langgraph_checkpoint_ns': 'superbot:06490483-de4d-5a7c-52e3-04c410c7cbcc', 'checkpoint_ns': 'superbot:06490483-de4d-5a7c-52e3-04c410c7cbcc', 'ls_provider': 'groq', 'ls_model_name': 'llama3-70b-8192', 'ls_model_type': 'chat', 'ls_temperature': 0.7}, 'parent_ids': ['4b086342-1e9b-4950-8ec8-7293ee69f3e9', '244c0cd4-8a98-4053-b590-e0d03dd2a9be']}\n",
      "{'event': 'on_chat_model_stream', 'data': {'chunk': AIMessageChunk(content=' passion', additional_kwargs={}, response_metadata={}, id='run--e0b9bbf0-55a9-434c-b9ea-646133de4e6f')}, 'run_id': 'e0b9bbf0-55a9-434c-b9ea-646133de4e6f', 'name': 'ChatGroq', 'tags': ['seq:step:1'], 'metadata': {'thread_id': '5', 'langgraph_step': 1, 'langgraph_node': 'superbot', 'langgraph_triggers': ('branch:to:superbot',), 'langgraph_path': ('__pregel_pull', 'superbot'), 'langgraph_checkpoint_ns': 'superbot:06490483-de4d-5a7c-52e3-04c410c7cbcc', 'checkpoint_ns': 'superbot:06490483-de4d-5a7c-52e3-04c410c7cbcc', 'ls_provider': 'groq', 'ls_model_name': 'llama3-70b-8192', 'ls_model_type': 'chat', 'ls_temperature': 0.7}, 'parent_ids': ['4b086342-1e9b-4950-8ec8-7293ee69f3e9', '244c0cd4-8a98-4053-b590-e0d03dd2a9be']}\n",
      "{'event': 'on_chat_model_stream', 'data': {'chunk': AIMessageChunk(content=' for', additional_kwargs={}, response_metadata={}, id='run--e0b9bbf0-55a9-434c-b9ea-646133de4e6f')}, 'run_id': 'e0b9bbf0-55a9-434c-b9ea-646133de4e6f', 'name': 'ChatGroq', 'tags': ['seq:step:1'], 'metadata': {'thread_id': '5', 'langgraph_step': 1, 'langgraph_node': 'superbot', 'langgraph_triggers': ('branch:to:superbot',), 'langgraph_path': ('__pregel_pull', 'superbot'), 'langgraph_checkpoint_ns': 'superbot:06490483-de4d-5a7c-52e3-04c410c7cbcc', 'checkpoint_ns': 'superbot:06490483-de4d-5a7c-52e3-04c410c7cbcc', 'ls_provider': 'groq', 'ls_model_name': 'llama3-70b-8192', 'ls_model_type': 'chat', 'ls_temperature': 0.7}, 'parent_ids': ['4b086342-1e9b-4950-8ec8-7293ee69f3e9', '244c0cd4-8a98-4053-b590-e0d03dd2a9be']}\n",
      "{'event': 'on_chat_model_stream', 'data': {'chunk': AIMessageChunk(content=' helping', additional_kwargs={}, response_metadata={}, id='run--e0b9bbf0-55a9-434c-b9ea-646133de4e6f')}, 'run_id': 'e0b9bbf0-55a9-434c-b9ea-646133de4e6f', 'name': 'ChatGroq', 'tags': ['seq:step:1'], 'metadata': {'thread_id': '5', 'langgraph_step': 1, 'langgraph_node': 'superbot', 'langgraph_triggers': ('branch:to:superbot',), 'langgraph_path': ('__pregel_pull', 'superbot'), 'langgraph_checkpoint_ns': 'superbot:06490483-de4d-5a7c-52e3-04c410c7cbcc', 'checkpoint_ns': 'superbot:06490483-de4d-5a7c-52e3-04c410c7cbcc', 'ls_provider': 'groq', 'ls_model_name': 'llama3-70b-8192', 'ls_model_type': 'chat', 'ls_temperature': 0.7}, 'parent_ids': ['4b086342-1e9b-4950-8ec8-7293ee69f3e9', '244c0cd4-8a98-4053-b590-e0d03dd2a9be']}\n",
      "{'event': 'on_chat_model_stream', 'data': {'chunk': AIMessageChunk(content=' others', additional_kwargs={}, response_metadata={}, id='run--e0b9bbf0-55a9-434c-b9ea-646133de4e6f')}, 'run_id': 'e0b9bbf0-55a9-434c-b9ea-646133de4e6f', 'name': 'ChatGroq', 'tags': ['seq:step:1'], 'metadata': {'thread_id': '5', 'langgraph_step': 1, 'langgraph_node': 'superbot', 'langgraph_triggers': ('branch:to:superbot',), 'langgraph_path': ('__pregel_pull', 'superbot'), 'langgraph_checkpoint_ns': 'superbot:06490483-de4d-5a7c-52e3-04c410c7cbcc', 'checkpoint_ns': 'superbot:06490483-de4d-5a7c-52e3-04c410c7cbcc', 'ls_provider': 'groq', 'ls_model_name': 'llama3-70b-8192', 'ls_model_type': 'chat', 'ls_temperature': 0.7}, 'parent_ids': ['4b086342-1e9b-4950-8ec8-7293ee69f3e9', '244c0cd4-8a98-4053-b590-e0d03dd2a9be']}\n",
      "{'event': 'on_chat_model_stream', 'data': {'chunk': AIMessageChunk(content=' learn', additional_kwargs={}, response_metadata={}, id='run--e0b9bbf0-55a9-434c-b9ea-646133de4e6f')}, 'run_id': 'e0b9bbf0-55a9-434c-b9ea-646133de4e6f', 'name': 'ChatGroq', 'tags': ['seq:step:1'], 'metadata': {'thread_id': '5', 'langgraph_step': 1, 'langgraph_node': 'superbot', 'langgraph_triggers': ('branch:to:superbot',), 'langgraph_path': ('__pregel_pull', 'superbot'), 'langgraph_checkpoint_ns': 'superbot:06490483-de4d-5a7c-52e3-04c410c7cbcc', 'checkpoint_ns': 'superbot:06490483-de4d-5a7c-52e3-04c410c7cbcc', 'ls_provider': 'groq', 'ls_model_name': 'llama3-70b-8192', 'ls_model_type': 'chat', 'ls_temperature': 0.7}, 'parent_ids': ['4b086342-1e9b-4950-8ec8-7293ee69f3e9', '244c0cd4-8a98-4053-b590-e0d03dd2a9be']}\n",
      "{'event': 'on_chat_model_stream', 'data': {'chunk': AIMessageChunk(content=' and', additional_kwargs={}, response_metadata={}, id='run--e0b9bbf0-55a9-434c-b9ea-646133de4e6f')}, 'run_id': 'e0b9bbf0-55a9-434c-b9ea-646133de4e6f', 'name': 'ChatGroq', 'tags': ['seq:step:1'], 'metadata': {'thread_id': '5', 'langgraph_step': 1, 'langgraph_node': 'superbot', 'langgraph_triggers': ('branch:to:superbot',), 'langgraph_path': ('__pregel_pull', 'superbot'), 'langgraph_checkpoint_ns': 'superbot:06490483-de4d-5a7c-52e3-04c410c7cbcc', 'checkpoint_ns': 'superbot:06490483-de4d-5a7c-52e3-04c410c7cbcc', 'ls_provider': 'groq', 'ls_model_name': 'llama3-70b-8192', 'ls_model_type': 'chat', 'ls_temperature': 0.7}, 'parent_ids': ['4b086342-1e9b-4950-8ec8-7293ee69f3e9', '244c0cd4-8a98-4053-b590-e0d03dd2a9be']}\n",
      "{'event': 'on_chat_model_stream', 'data': {'chunk': AIMessageChunk(content=' grow', additional_kwargs={}, response_metadata={}, id='run--e0b9bbf0-55a9-434c-b9ea-646133de4e6f')}, 'run_id': 'e0b9bbf0-55a9-434c-b9ea-646133de4e6f', 'name': 'ChatGroq', 'tags': ['seq:step:1'], 'metadata': {'thread_id': '5', 'langgraph_step': 1, 'langgraph_node': 'superbot', 'langgraph_triggers': ('branch:to:superbot',), 'langgraph_path': ('__pregel_pull', 'superbot'), 'langgraph_checkpoint_ns': 'superbot:06490483-de4d-5a7c-52e3-04c410c7cbcc', 'checkpoint_ns': 'superbot:06490483-de4d-5a7c-52e3-04c410c7cbcc', 'ls_provider': 'groq', 'ls_model_name': 'llama3-70b-8192', 'ls_model_type': 'chat', 'ls_temperature': 0.7}, 'parent_ids': ['4b086342-1e9b-4950-8ec8-7293ee69f3e9', '244c0cd4-8a98-4053-b590-e0d03dd2a9be']}\n",
      "{'event': 'on_chat_model_stream', 'data': {'chunk': AIMessageChunk(content='.', additional_kwargs={}, response_metadata={}, id='run--e0b9bbf0-55a9-434c-b9ea-646133de4e6f')}, 'run_id': 'e0b9bbf0-55a9-434c-b9ea-646133de4e6f', 'name': 'ChatGroq', 'tags': ['seq:step:1'], 'metadata': {'thread_id': '5', 'langgraph_step': 1, 'langgraph_node': 'superbot', 'langgraph_triggers': ('branch:to:superbot',), 'langgraph_path': ('__pregel_pull', 'superbot'), 'langgraph_checkpoint_ns': 'superbot:06490483-de4d-5a7c-52e3-04c410c7cbcc', 'checkpoint_ns': 'superbot:06490483-de4d-5a7c-52e3-04c410c7cbcc', 'ls_provider': 'groq', 'ls_model_name': 'llama3-70b-8192', 'ls_model_type': 'chat', 'ls_temperature': 0.7}, 'parent_ids': ['4b086342-1e9b-4950-8ec8-7293ee69f3e9', '244c0cd4-8a98-4053-b590-e0d03dd2a9be']}\n",
      "{'event': 'on_chat_model_stream', 'data': {'chunk': AIMessageChunk(content=' What', additional_kwargs={}, response_metadata={}, id='run--e0b9bbf0-55a9-434c-b9ea-646133de4e6f')}, 'run_id': 'e0b9bbf0-55a9-434c-b9ea-646133de4e6f', 'name': 'ChatGroq', 'tags': ['seq:step:1'], 'metadata': {'thread_id': '5', 'langgraph_step': 1, 'langgraph_node': 'superbot', 'langgraph_triggers': ('branch:to:superbot',), 'langgraph_path': ('__pregel_pull', 'superbot'), 'langgraph_checkpoint_ns': 'superbot:06490483-de4d-5a7c-52e3-04c410c7cbcc', 'checkpoint_ns': 'superbot:06490483-de4d-5a7c-52e3-04c410c7cbcc', 'ls_provider': 'groq', 'ls_model_name': 'llama3-70b-8192', 'ls_model_type': 'chat', 'ls_temperature': 0.7}, 'parent_ids': ['4b086342-1e9b-4950-8ec8-7293ee69f3e9', '244c0cd4-8a98-4053-b590-e0d03dd2a9be']}\n",
      "{'event': 'on_chat_model_stream', 'data': {'chunk': AIMessageChunk(content=' subject', additional_kwargs={}, response_metadata={}, id='run--e0b9bbf0-55a9-434c-b9ea-646133de4e6f')}, 'run_id': 'e0b9bbf0-55a9-434c-b9ea-646133de4e6f', 'name': 'ChatGroq', 'tags': ['seq:step:1'], 'metadata': {'thread_id': '5', 'langgraph_step': 1, 'langgraph_node': 'superbot', 'langgraph_triggers': ('branch:to:superbot',), 'langgraph_path': ('__pregel_pull', 'superbot'), 'langgraph_checkpoint_ns': 'superbot:06490483-de4d-5a7c-52e3-04c410c7cbcc', 'checkpoint_ns': 'superbot:06490483-de4d-5a7c-52e3-04c410c7cbcc', 'ls_provider': 'groq', 'ls_model_name': 'llama3-70b-8192', 'ls_model_type': 'chat', 'ls_temperature': 0.7}, 'parent_ids': ['4b086342-1e9b-4950-8ec8-7293ee69f3e9', '244c0cd4-8a98-4053-b590-e0d03dd2a9be']}\n",
      "{'event': 'on_chat_model_stream', 'data': {'chunk': AIMessageChunk(content=' or', additional_kwargs={}, response_metadata={}, id='run--e0b9bbf0-55a9-434c-b9ea-646133de4e6f')}, 'run_id': 'e0b9bbf0-55a9-434c-b9ea-646133de4e6f', 'name': 'ChatGroq', 'tags': ['seq:step:1'], 'metadata': {'thread_id': '5', 'langgraph_step': 1, 'langgraph_node': 'superbot', 'langgraph_triggers': ('branch:to:superbot',), 'langgraph_path': ('__pregel_pull', 'superbot'), 'langgraph_checkpoint_ns': 'superbot:06490483-de4d-5a7c-52e3-04c410c7cbcc', 'checkpoint_ns': 'superbot:06490483-de4d-5a7c-52e3-04c410c7cbcc', 'ls_provider': 'groq', 'ls_model_name': 'llama3-70b-8192', 'ls_model_type': 'chat', 'ls_temperature': 0.7}, 'parent_ids': ['4b086342-1e9b-4950-8ec8-7293ee69f3e9', '244c0cd4-8a98-4053-b590-e0d03dd2a9be']}\n",
      "{'event': 'on_chat_model_stream', 'data': {'chunk': AIMessageChunk(content=' age', additional_kwargs={}, response_metadata={}, id='run--e0b9bbf0-55a9-434c-b9ea-646133de4e6f')}, 'run_id': 'e0b9bbf0-55a9-434c-b9ea-646133de4e6f', 'name': 'ChatGroq', 'tags': ['seq:step:1'], 'metadata': {'thread_id': '5', 'langgraph_step': 1, 'langgraph_node': 'superbot', 'langgraph_triggers': ('branch:to:superbot',), 'langgraph_path': ('__pregel_pull', 'superbot'), 'langgraph_checkpoint_ns': 'superbot:06490483-de4d-5a7c-52e3-04c410c7cbcc', 'checkpoint_ns': 'superbot:06490483-de4d-5a7c-52e3-04c410c7cbcc', 'ls_provider': 'groq', 'ls_model_name': 'llama3-70b-8192', 'ls_model_type': 'chat', 'ls_temperature': 0.7}, 'parent_ids': ['4b086342-1e9b-4950-8ec8-7293ee69f3e9', '244c0cd4-8a98-4053-b590-e0d03dd2a9be']}\n",
      "{'event': 'on_chat_model_stream', 'data': {'chunk': AIMessageChunk(content=' group', additional_kwargs={}, response_metadata={}, id='run--e0b9bbf0-55a9-434c-b9ea-646133de4e6f')}, 'run_id': 'e0b9bbf0-55a9-434c-b9ea-646133de4e6f', 'name': 'ChatGroq', 'tags': ['seq:step:1'], 'metadata': {'thread_id': '5', 'langgraph_step': 1, 'langgraph_node': 'superbot', 'langgraph_triggers': ('branch:to:superbot',), 'langgraph_path': ('__pregel_pull', 'superbot'), 'langgraph_checkpoint_ns': 'superbot:06490483-de4d-5a7c-52e3-04c410c7cbcc', 'checkpoint_ns': 'superbot:06490483-de4d-5a7c-52e3-04c410c7cbcc', 'ls_provider': 'groq', 'ls_model_name': 'llama3-70b-8192', 'ls_model_type': 'chat', 'ls_temperature': 0.7}, 'parent_ids': ['4b086342-1e9b-4950-8ec8-7293ee69f3e9', '244c0cd4-8a98-4053-b590-e0d03dd2a9be']}\n",
      "{'event': 'on_chat_model_stream', 'data': {'chunk': AIMessageChunk(content=' do', additional_kwargs={}, response_metadata={}, id='run--e0b9bbf0-55a9-434c-b9ea-646133de4e6f')}, 'run_id': 'e0b9bbf0-55a9-434c-b9ea-646133de4e6f', 'name': 'ChatGroq', 'tags': ['seq:step:1'], 'metadata': {'thread_id': '5', 'langgraph_step': 1, 'langgraph_node': 'superbot', 'langgraph_triggers': ('branch:to:superbot',), 'langgraph_path': ('__pregel_pull', 'superbot'), 'langgraph_checkpoint_ns': 'superbot:06490483-de4d-5a7c-52e3-04c410c7cbcc', 'checkpoint_ns': 'superbot:06490483-de4d-5a7c-52e3-04c410c7cbcc', 'ls_provider': 'groq', 'ls_model_name': 'llama3-70b-8192', 'ls_model_type': 'chat', 'ls_temperature': 0.7}, 'parent_ids': ['4b086342-1e9b-4950-8ec8-7293ee69f3e9', '244c0cd4-8a98-4053-b590-e0d03dd2a9be']}\n",
      "{'event': 'on_chat_model_stream', 'data': {'chunk': AIMessageChunk(content=' you', additional_kwargs={}, response_metadata={}, id='run--e0b9bbf0-55a9-434c-b9ea-646133de4e6f')}, 'run_id': 'e0b9bbf0-55a9-434c-b9ea-646133de4e6f', 'name': 'ChatGroq', 'tags': ['seq:step:1'], 'metadata': {'thread_id': '5', 'langgraph_step': 1, 'langgraph_node': 'superbot', 'langgraph_triggers': ('branch:to:superbot',), 'langgraph_path': ('__pregel_pull', 'superbot'), 'langgraph_checkpoint_ns': 'superbot:06490483-de4d-5a7c-52e3-04c410c7cbcc', 'checkpoint_ns': 'superbot:06490483-de4d-5a7c-52e3-04c410c7cbcc', 'ls_provider': 'groq', 'ls_model_name': 'llama3-70b-8192', 'ls_model_type': 'chat', 'ls_temperature': 0.7}, 'parent_ids': ['4b086342-1e9b-4950-8ec8-7293ee69f3e9', '244c0cd4-8a98-4053-b590-e0d03dd2a9be']}\n",
      "{'event': 'on_chat_model_stream', 'data': {'chunk': AIMessageChunk(content=' enjoy', additional_kwargs={}, response_metadata={}, id='run--e0b9bbf0-55a9-434c-b9ea-646133de4e6f')}, 'run_id': 'e0b9bbf0-55a9-434c-b9ea-646133de4e6f', 'name': 'ChatGroq', 'tags': ['seq:step:1'], 'metadata': {'thread_id': '5', 'langgraph_step': 1, 'langgraph_node': 'superbot', 'langgraph_triggers': ('branch:to:superbot',), 'langgraph_path': ('__pregel_pull', 'superbot'), 'langgraph_checkpoint_ns': 'superbot:06490483-de4d-5a7c-52e3-04c410c7cbcc', 'checkpoint_ns': 'superbot:06490483-de4d-5a7c-52e3-04c410c7cbcc', 'ls_provider': 'groq', 'ls_model_name': 'llama3-70b-8192', 'ls_model_type': 'chat', 'ls_temperature': 0.7}, 'parent_ids': ['4b086342-1e9b-4950-8ec8-7293ee69f3e9', '244c0cd4-8a98-4053-b590-e0d03dd2a9be']}\n",
      "{'event': 'on_chat_model_stream', 'data': {'chunk': AIMessageChunk(content=' teaching', additional_kwargs={}, response_metadata={}, id='run--e0b9bbf0-55a9-434c-b9ea-646133de4e6f')}, 'run_id': 'e0b9bbf0-55a9-434c-b9ea-646133de4e6f', 'name': 'ChatGroq', 'tags': ['seq:step:1'], 'metadata': {'thread_id': '5', 'langgraph_step': 1, 'langgraph_node': 'superbot', 'langgraph_triggers': ('branch:to:superbot',), 'langgraph_path': ('__pregel_pull', 'superbot'), 'langgraph_checkpoint_ns': 'superbot:06490483-de4d-5a7c-52e3-04c410c7cbcc', 'checkpoint_ns': 'superbot:06490483-de4d-5a7c-52e3-04c410c7cbcc', 'ls_provider': 'groq', 'ls_model_name': 'llama3-70b-8192', 'ls_model_type': 'chat', 'ls_temperature': 0.7}, 'parent_ids': ['4b086342-1e9b-4950-8ec8-7293ee69f3e9', '244c0cd4-8a98-4053-b590-e0d03dd2a9be']}\n",
      "{'event': 'on_chat_model_stream', 'data': {'chunk': AIMessageChunk(content=' the', additional_kwargs={}, response_metadata={}, id='run--e0b9bbf0-55a9-434c-b9ea-646133de4e6f')}, 'run_id': 'e0b9bbf0-55a9-434c-b9ea-646133de4e6f', 'name': 'ChatGroq', 'tags': ['seq:step:1'], 'metadata': {'thread_id': '5', 'langgraph_step': 1, 'langgraph_node': 'superbot', 'langgraph_triggers': ('branch:to:superbot',), 'langgraph_path': ('__pregel_pull', 'superbot'), 'langgraph_checkpoint_ns': 'superbot:06490483-de4d-5a7c-52e3-04c410c7cbcc', 'checkpoint_ns': 'superbot:06490483-de4d-5a7c-52e3-04c410c7cbcc', 'ls_provider': 'groq', 'ls_model_name': 'llama3-70b-8192', 'ls_model_type': 'chat', 'ls_temperature': 0.7}, 'parent_ids': ['4b086342-1e9b-4950-8ec8-7293ee69f3e9', '244c0cd4-8a98-4053-b590-e0d03dd2a9be']}\n",
      "{'event': 'on_chat_model_stream', 'data': {'chunk': AIMessageChunk(content=' most', additional_kwargs={}, response_metadata={}, id='run--e0b9bbf0-55a9-434c-b9ea-646133de4e6f')}, 'run_id': 'e0b9bbf0-55a9-434c-b9ea-646133de4e6f', 'name': 'ChatGroq', 'tags': ['seq:step:1'], 'metadata': {'thread_id': '5', 'langgraph_step': 1, 'langgraph_node': 'superbot', 'langgraph_triggers': ('branch:to:superbot',), 'langgraph_path': ('__pregel_pull', 'superbot'), 'langgraph_checkpoint_ns': 'superbot:06490483-de4d-5a7c-52e3-04c410c7cbcc', 'checkpoint_ns': 'superbot:06490483-de4d-5a7c-52e3-04c410c7cbcc', 'ls_provider': 'groq', 'ls_model_name': 'llama3-70b-8192', 'ls_model_type': 'chat', 'ls_temperature': 0.7}, 'parent_ids': ['4b086342-1e9b-4950-8ec8-7293ee69f3e9', '244c0cd4-8a98-4053-b590-e0d03dd2a9be']}\n",
      "{'event': 'on_chat_model_stream', 'data': {'chunk': AIMessageChunk(content='?', additional_kwargs={}, response_metadata={}, id='run--e0b9bbf0-55a9-434c-b9ea-646133de4e6f')}, 'run_id': 'e0b9bbf0-55a9-434c-b9ea-646133de4e6f', 'name': 'ChatGroq', 'tags': ['seq:step:1'], 'metadata': {'thread_id': '5', 'langgraph_step': 1, 'langgraph_node': 'superbot', 'langgraph_triggers': ('branch:to:superbot',), 'langgraph_path': ('__pregel_pull', 'superbot'), 'langgraph_checkpoint_ns': 'superbot:06490483-de4d-5a7c-52e3-04c410c7cbcc', 'checkpoint_ns': 'superbot:06490483-de4d-5a7c-52e3-04c410c7cbcc', 'ls_provider': 'groq', 'ls_model_name': 'llama3-70b-8192', 'ls_model_type': 'chat', 'ls_temperature': 0.7}, 'parent_ids': ['4b086342-1e9b-4950-8ec8-7293ee69f3e9', '244c0cd4-8a98-4053-b590-e0d03dd2a9be']}\n",
      "{'event': 'on_chat_model_stream', 'data': {'chunk': AIMessageChunk(content='', additional_kwargs={}, response_metadata={'finish_reason': 'stop', 'model_name': 'llama3-70b-8192', 'system_fingerprint': 'fp_dd4ae1c591'}, id='run--e0b9bbf0-55a9-434c-b9ea-646133de4e6f', usage_metadata={'input_tokens': 19, 'output_tokens': 44, 'total_tokens': 63})}, 'run_id': 'e0b9bbf0-55a9-434c-b9ea-646133de4e6f', 'name': 'ChatGroq', 'tags': ['seq:step:1'], 'metadata': {'thread_id': '5', 'langgraph_step': 1, 'langgraph_node': 'superbot', 'langgraph_triggers': ('branch:to:superbot',), 'langgraph_path': ('__pregel_pull', 'superbot'), 'langgraph_checkpoint_ns': 'superbot:06490483-de4d-5a7c-52e3-04c410c7cbcc', 'checkpoint_ns': 'superbot:06490483-de4d-5a7c-52e3-04c410c7cbcc', 'ls_provider': 'groq', 'ls_model_name': 'llama3-70b-8192', 'ls_model_type': 'chat', 'ls_temperature': 0.7}, 'parent_ids': ['4b086342-1e9b-4950-8ec8-7293ee69f3e9', '244c0cd4-8a98-4053-b590-e0d03dd2a9be']}\n",
      "{'event': 'on_chat_model_end', 'data': {'output': AIMessage(content=\"Hi Shaun! It's great to meet you! Teaching is a wonderful profession that requires patience, dedication, and a passion for helping others learn and grow. What subject or age group do you enjoy teaching the most?\", additional_kwargs={}, response_metadata={'finish_reason': 'stop', 'model_name': 'llama3-70b-8192', 'system_fingerprint': 'fp_dd4ae1c591'}, id='run--e0b9bbf0-55a9-434c-b9ea-646133de4e6f', usage_metadata={'input_tokens': 19, 'output_tokens': 44, 'total_tokens': 63}), 'input': {'messages': [[HumanMessage(content='Hi my name is Shaun and I like teaching', additional_kwargs={}, response_metadata={}, id='0013be81-ebd3-47df-b828-ec60485cbb46')]]}}, 'run_id': 'e0b9bbf0-55a9-434c-b9ea-646133de4e6f', 'name': 'ChatGroq', 'tags': ['seq:step:1'], 'metadata': {'thread_id': '5', 'langgraph_step': 1, 'langgraph_node': 'superbot', 'langgraph_triggers': ('branch:to:superbot',), 'langgraph_path': ('__pregel_pull', 'superbot'), 'langgraph_checkpoint_ns': 'superbot:06490483-de4d-5a7c-52e3-04c410c7cbcc', 'checkpoint_ns': 'superbot:06490483-de4d-5a7c-52e3-04c410c7cbcc', 'ls_provider': 'groq', 'ls_model_name': 'llama3-70b-8192', 'ls_model_type': 'chat', 'ls_temperature': 0.7}, 'parent_ids': ['4b086342-1e9b-4950-8ec8-7293ee69f3e9', '244c0cd4-8a98-4053-b590-e0d03dd2a9be']}\n",
      "{'event': 'on_chain_stream', 'run_id': '244c0cd4-8a98-4053-b590-e0d03dd2a9be', 'name': 'superbot', 'tags': ['graph:step:1'], 'metadata': {'thread_id': '5', 'langgraph_step': 1, 'langgraph_node': 'superbot', 'langgraph_triggers': ('branch:to:superbot',), 'langgraph_path': ('__pregel_pull', 'superbot'), 'langgraph_checkpoint_ns': 'superbot:06490483-de4d-5a7c-52e3-04c410c7cbcc'}, 'data': {'chunk': {'messages': [AIMessage(content=\"Hi Shaun! It's great to meet you! Teaching is a wonderful profession that requires patience, dedication, and a passion for helping others learn and grow. What subject or age group do you enjoy teaching the most?\", additional_kwargs={}, response_metadata={'finish_reason': 'stop', 'model_name': 'llama3-70b-8192', 'system_fingerprint': 'fp_dd4ae1c591'}, id='run--e0b9bbf0-55a9-434c-b9ea-646133de4e6f', usage_metadata={'input_tokens': 19, 'output_tokens': 44, 'total_tokens': 63})]}}, 'parent_ids': ['4b086342-1e9b-4950-8ec8-7293ee69f3e9']}\n",
      "{'event': 'on_chain_end', 'data': {'output': {'messages': [AIMessage(content=\"Hi Shaun! It's great to meet you! Teaching is a wonderful profession that requires patience, dedication, and a passion for helping others learn and grow. What subject or age group do you enjoy teaching the most?\", additional_kwargs={}, response_metadata={'finish_reason': 'stop', 'model_name': 'llama3-70b-8192', 'system_fingerprint': 'fp_dd4ae1c591'}, id='run--e0b9bbf0-55a9-434c-b9ea-646133de4e6f', usage_metadata={'input_tokens': 19, 'output_tokens': 44, 'total_tokens': 63})]}, 'input': {'messages': [HumanMessage(content='Hi my name is Shaun and I like teaching', additional_kwargs={}, response_metadata={}, id='0013be81-ebd3-47df-b828-ec60485cbb46')]}}, 'run_id': '244c0cd4-8a98-4053-b590-e0d03dd2a9be', 'name': 'superbot', 'tags': ['graph:step:1'], 'metadata': {'thread_id': '5', 'langgraph_step': 1, 'langgraph_node': 'superbot', 'langgraph_triggers': ('branch:to:superbot',), 'langgraph_path': ('__pregel_pull', 'superbot'), 'langgraph_checkpoint_ns': 'superbot:06490483-de4d-5a7c-52e3-04c410c7cbcc'}, 'parent_ids': ['4b086342-1e9b-4950-8ec8-7293ee69f3e9']}\n",
      "{'event': 'on_chain_stream', 'run_id': '4b086342-1e9b-4950-8ec8-7293ee69f3e9', 'name': 'LangGraph', 'tags': [], 'metadata': {'thread_id': '5'}, 'data': {'chunk': {'superbot': {'messages': [AIMessage(content=\"Hi Shaun! It's great to meet you! Teaching is a wonderful profession that requires patience, dedication, and a passion for helping others learn and grow. What subject or age group do you enjoy teaching the most?\", additional_kwargs={}, response_metadata={'finish_reason': 'stop', 'model_name': 'llama3-70b-8192', 'system_fingerprint': 'fp_dd4ae1c591'}, id='run--e0b9bbf0-55a9-434c-b9ea-646133de4e6f', usage_metadata={'input_tokens': 19, 'output_tokens': 44, 'total_tokens': 63})]}}}, 'parent_ids': []}\n",
      "{'event': 'on_chain_end', 'data': {'output': {'messages': [HumanMessage(content='Hi my name is Shaun and I like teaching', additional_kwargs={}, response_metadata={}, id='0013be81-ebd3-47df-b828-ec60485cbb46'), AIMessage(content=\"Hi Shaun! It's great to meet you! Teaching is a wonderful profession that requires patience, dedication, and a passion for helping others learn and grow. What subject or age group do you enjoy teaching the most?\", additional_kwargs={}, response_metadata={'finish_reason': 'stop', 'model_name': 'llama3-70b-8192', 'system_fingerprint': 'fp_dd4ae1c591'}, id='run--e0b9bbf0-55a9-434c-b9ea-646133de4e6f', usage_metadata={'input_tokens': 19, 'output_tokens': 44, 'total_tokens': 63})]}}, 'run_id': '4b086342-1e9b-4950-8ec8-7293ee69f3e9', 'name': 'LangGraph', 'tags': [], 'metadata': {'thread_id': '5'}, 'parent_ids': []}\n"
     ]
    }
   ],
   "source": [
    "config = {\"configurable\": {\"thread_id\":\"5\"}}\n",
    "\n",
    "async for event in graph.astream_events({\"messages\":[\"Hi my name is Shaun and I like teaching\"]},config, version = \"v2\"):\n",
    "    print(event)"
   ]
  }
 ],
 "metadata": {
  "kernelspec": {
   "display_name": "AgentLangGraph",
   "language": "python",
   "name": "python3"
  },
  "language_info": {
   "codemirror_mode": {
    "name": "ipython",
    "version": 3
   },
   "file_extension": ".py",
   "mimetype": "text/x-python",
   "name": "python",
   "nbconvert_exporter": "python",
   "pygments_lexer": "ipython3",
   "version": "3.11.11"
  }
 },
 "nbformat": 4,
 "nbformat_minor": 5
}
