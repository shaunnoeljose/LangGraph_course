{
 "cells": [
  {
   "cell_type": "markdown",
   "id": "e05be0dd",
   "metadata": {},
   "source": [
    "## Adding Memory in Agentic Graph\n",
    "### Agent with memory"
   ]
  },
  {
   "cell_type": "code",
   "execution_count": null,
   "id": "0c90b2b8",
   "metadata": {},
   "outputs": [],
   "source": [
    "from typing import Annotated\n",
    "from typing_extensions import TypedDict\n",
    "\n",
    "from langgraph.graph import StateGraph,START,END\n",
    "from langgraph.graph.message import add_messages\n",
    "from langchain_groq import ChatGroq\n",
    "\n",
    "import os\n",
    "from dotenv import load_dotenv\n",
    "load_dotenv()\n",
    "\n",
    "# loading the llm\n",
    "api_key = os.getenv(\"GROQ_API\")\n",
    "llm = ChatGroq(model = \"gemma2-9b-it\", api_key = api_key)\n",
    "\n",
    "# Loading the tavily tool\n",
    "from langchain_tavily import TavilySearch\n",
    "tavily_api_key = os.getenv(\"TAVILY_API\")\n",
    "\n",
    "tool = TavilySearch(max_results = 2)"
   ]
  },
  {
   "cell_type": "code",
   "execution_count": null,
   "id": "4e9548f5",
   "metadata": {},
   "outputs": [],
   "source": [
    "#Defining custom function\n",
    "def multipy(a:int,b:int)->int: # the doc string is very important\n",
    "    \"\"\"Multiply a and b # example of document string\n",
    "\n",
    "    Args:\n",
    "        a (int) : first int\n",
    "        b (int) : second int\n",
    "\n",
    "    Returns:\n",
    "        int: output int\n",
    "    \"\"\"\n",
    "    return(a*b)\n",
    "\n",
    "#Creating the tools list \n",
    "tools = [tool,multipy]\n",
    "\n",
    "#binding llm with tools\n",
    "llm_with_tools = llm.bind_tools(tools)"
   ]
  },
  {
   "cell_type": "code",
   "execution_count": null,
   "id": "54a2dcc5",
   "metadata": {},
   "outputs": [],
   "source": []
  },
  {
   "cell_type": "markdown",
   "id": "f560c2fa",
   "metadata": {},
   "source": []
  }
 ],
 "metadata": {
  "kernelspec": {
   "display_name": "AgentLangGraph",
   "language": "python",
   "name": "python3"
  },
  "language_info": {
   "name": "python",
   "version": "3.11.11"
  }
 },
 "nbformat": 4,
 "nbformat_minor": 5
}
