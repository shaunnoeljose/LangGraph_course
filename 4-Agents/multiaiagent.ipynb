{
 "cells": [
  {
   "cell_type": "markdown",
   "id": "ab19238d",
   "metadata": {},
   "source": [
    "# Multi AI Agent"
   ]
  },
  {
   "cell_type": "markdown",
   "id": "2543f802",
   "metadata": {},
   "source": []
  }
 ],
 "metadata": {
  "language_info": {
   "name": "python"
  }
 },
 "nbformat": 4,
 "nbformat_minor": 5
}
