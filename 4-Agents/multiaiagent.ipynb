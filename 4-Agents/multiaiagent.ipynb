{
 "cells": [
  {
   "cell_type": "markdown",
   "id": "ab19238d",
   "metadata": {},
   "source": [
    "# Multi AI Agent"
   ]
  },
  {
   "cell_type": "markdown",
   "id": "61553e4e",
   "metadata": {},
   "source": [
    "## Simple Multi-AI Agent Architecture"
   ]
  },
  {
   "cell_type": "code",
   "execution_count": 6,
   "id": "a020848b",
   "metadata": {},
   "outputs": [
    {
     "data": {
      "text/plain": [
       "True"
      ]
     },
     "execution_count": 6,
     "metadata": {},
     "output_type": "execute_result"
    }
   ],
   "source": [
    "from typing import Annotated, TypedDict, List, Literal\n",
    "# from typing_extensions import TypedDict\n",
    "\n",
    "from langgraph.graph import END, START,StateGraph, MessagesState\n",
    "from langgraph.graph.message import add_messages\n",
    "from langgraph.prebuilt import ToolNode\n",
    "from langgraph.prebuilt import tools_condition, create_react_agent\n",
    "from langgraph.checkpoint.memory import MemorySaver\n",
    "from langchain_core.tools import tool\n",
    "from langchain_core.messages import BaseMessage, HumanMessage, AIMessage, SystemMessage\n",
    "from langchain_community.tools.tavily_search import TavilySearchResults\n",
    "from langchain_groq import ChatGroq\n",
    "\n",
    "import os\n",
    "from dotenv import load_dotenv\n",
    "\n",
    "load_dotenv()"
   ]
  },
  {
   "cell_type": "code",
   "execution_count": null,
   "id": "d6b1ab92",
   "metadata": {},
   "outputs": [],
   "source": [
    "# Defining the state\n",
    "class AgentState(MessagesState):\n",
    "    next_agent:str #indicates which is the next agent\n",
    "\n",
    "# Defining sample tool\n",
    "@tool\n",
    "def search_web(query:str)->str:\n",
    "    \"\"\"Search the web for information\"\"\"\n",
    "    # Using Tavily\n",
    "    search = TavilySearchResults(max_results=3)\n",
    "    results = search.invoke(query)\n",
    "    return str(results)\n",
    "\n",
    "@tool\n",
    "def write_summary(content:str)-> str:\n",
    "    \"\"\"Write a summary for the provided content\"\"\"\n",
    "    # Generates the summary\n",
    "    summary = f\"Summary of the findings:\\n\\n{content[:500]}...\"\n",
    "    return summary\n",
    "\n",
    "# loading the groq api key and intialising the llm\n",
    "groq_api_key = os.getenv(\"GROQ_API\")\n",
    "llm = ChatGroq(model = \"llama3-70b-8192\", api_key = groq_api_key)"
   ]
  },
  {
   "cell_type": "code",
   "execution_count": null,
   "id": "2dc7a087",
   "metadata": {},
   "outputs": [],
   "source": [
    "# Defining Researcher Agent\n"
   ]
  },
  {
   "cell_type": "code",
   "execution_count": null,
   "id": "52485f49",
   "metadata": {},
   "outputs": [],
   "source": []
  }
 ],
 "metadata": {
  "kernelspec": {
   "display_name": "AgentLangGraph",
   "language": "python",
   "name": "python3"
  },
  "language_info": {
   "codemirror_mode": {
    "name": "ipython",
    "version": 3
   },
   "file_extension": ".py",
   "mimetype": "text/x-python",
   "name": "python",
   "nbconvert_exporter": "python",
   "pygments_lexer": "ipython3",
   "version": "3.11.11"
  }
 },
 "nbformat": 4,
 "nbformat_minor": 5
}
