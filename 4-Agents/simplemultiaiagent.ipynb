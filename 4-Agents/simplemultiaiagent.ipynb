{
 "cells": [
  {
   "cell_type": "markdown",
   "id": "ab19238d",
   "metadata": {},
   "source": [
    "# Multi AI Agent"
   ]
  },
  {
   "cell_type": "markdown",
   "id": "61553e4e",
   "metadata": {},
   "source": [
    "## Simple Multi-AI Agent Architecture"
   ]
  },
  {
   "cell_type": "code",
   "execution_count": 27,
   "id": "a020848b",
   "metadata": {},
   "outputs": [
    {
     "data": {
      "text/plain": [
       "True"
      ]
     },
     "execution_count": 27,
     "metadata": {},
     "output_type": "execute_result"
    }
   ],
   "source": [
    "from typing import Annotated, TypedDict, List, Literal\n",
    "from langchain_core.messages import BaseMessage, HumanMessage, AIMessage, SystemMessage\n",
    "from langchain_core.tools import tool\n",
    "# from typing_extensions import TypedDict\n",
    "\n",
    "from langgraph.graph import END, START,StateGraph, MessagesState\n",
    "from langgraph.graph.message import add_messages\n",
    "from langgraph.prebuilt import ToolNode\n",
    "from langgraph.prebuilt import tools_condition, create_react_agent\n",
    "from langgraph.checkpoint.memory import MemorySaver\n",
    "from langchain_community.tools.tavily_search import TavilySearchResults\n",
    "from langchain_groq import ChatGroq\n",
    "\n",
    "import os\n",
    "from dotenv import load_dotenv\n",
    "\n",
    "load_dotenv()"
   ]
  },
  {
   "cell_type": "code",
   "execution_count": 36,
   "id": "d6b1ab92",
   "metadata": {},
   "outputs": [],
   "source": [
    "# Defining the state\n",
    "class AgentState(MessagesState):\n",
    "    next_agent:str #indicates which is the next agent\n",
    "\n",
    "# Defining sample tool\n",
    "@tool\n",
    "def search_web(query:str)->str:\n",
    "    \"\"\"Search the web for information\"\"\"\n",
    "    # Using Tavily\n",
    "    search = TavilySearchResults(max_results=3)\n",
    "    results = search.invoke(query)\n",
    "    return str(results)\n",
    "\n",
    "@tool\n",
    "def write_summary(content:str)-> str:\n",
    "    \"\"\"Write a summary for the provided content\"\"\"\n",
    "    # Generates the summary\n",
    "    summary = f\"Summary of the findings:\\n\\n{content[:500]}...\"\n",
    "    return summary\n",
    "\n",
    "# loading the groq api key and intialising the llm\n",
    "groq_api_key = os.getenv(\"GROQ_API\")\n",
    "llm = ChatGroq(model = \"llama-3.1-8b-instant\", api_key = groq_api_key)"
   ]
  },
  {
   "cell_type": "code",
   "execution_count": 49,
   "id": "2dc7a087",
   "metadata": {},
   "outputs": [],
   "source": [
    "# Defining Researcher Agent\n",
    "def researcher_agent(state: AgentState):\n",
    "    \"Researcher agent searches for the particular information\"\n",
    "    messages = state[\"messages\"]\n",
    "\n",
    "    # Adding system message for context\n",
    "    system_msg = SystemMessage(content = \"You are a research assistant. Use the search_web tool to find information about the user's request. Provide the URLs as sources for information\")\n",
    "\n",
    "    # LLM with tools\n",
    "    researcher_llm = llm.bind_tools([search_web])\n",
    "    response = researcher_llm.invoke([system_msg] + messages) \n",
    "\n",
    "    # Return the response and route the response to writer\n",
    "    return {\n",
    "        \"messages\": [response],\n",
    "        \"next_agent\" : \"writer\"\n",
    "    }\n",
    "\n",
    "# Defining writer agent\n",
    "def writer_agent(state: AgentState):\n",
    "    \"\"\"Writer agent that creates summaries\"\"\"\n",
    "    messages = state[\"messages\"]\n",
    "\n",
    "    # Adding system message for context\n",
    "    system_msg = SystemMessage(content = \"You are a technical writer. Review the conversation and create a comprehensive, clear and concise summary of the findings.Also include the sources in the summary\")\n",
    "\n",
    "    # completion without tools\n",
    "    response = llm.invoke([system_msg]+ messages)\n",
    "\n",
    "    # Returns the response\n",
    "    return{\n",
    "        \"messages\":[response],\n",
    "        \"next_agent\": \"end\"\n",
    "    }"
   ]
  },
  {
   "cell_type": "code",
   "execution_count": 50,
   "id": "52485f49",
   "metadata": {},
   "outputs": [],
   "source": [
    "# Tool executor node\n",
    "def execute_tools(state:AgentState):\n",
    "    \"\"\"Execute any pending tool calls\"\"\"\n",
    "    messages = state[\"messages\"]\n",
    "    last_message = messages[-1]\n",
    "\n",
    "    # check if there are tool calls to execute\n",
    "    if hasattr(last_message, \"tool_calls\") and last_message.tool_calls:\n",
    "        # create tool node and execute\n",
    "        tool_node = ToolNode([search_web, write_summary])\n",
    "        response = tool_node.invoke(state)\n",
    "        return response\n",
    "    \n",
    "    # No tools to execute\n",
    "    return state"
   ]
  },
  {
   "cell_type": "code",
   "execution_count": 51,
   "id": "9015bcd2",
   "metadata": {},
   "outputs": [],
   "source": [
    "# Building graph\n",
    "workflow = StateGraph(MessagesState)\n",
    "\n",
    "# Adding nodes\n",
    "workflow.add_node(\"researcher\",researcher_agent)\n",
    "workflow.add_node(\"writer\", writer_agent)\n",
    "\n",
    "# Adding edges\n",
    "workflow.add_edge(START,\"researcher\")\n",
    "workflow.add_edge(\"researcher\",\"writer\")\n",
    "workflow.add_edge(\"writer\",END)\n",
    "\n",
    "final_workflow = workflow.compile()"
   ]
  },
  {
   "cell_type": "code",
   "execution_count": 52,
   "id": "d984ccf8",
   "metadata": {},
   "outputs": [
    {
     "name": "stdout",
     "output_type": "stream",
     "text": [
      "================================\u001b[1m Human Message \u001b[0m=================================\n",
      "\n",
      "Research about how Agentic AI can be used in the field of Agriculture\n",
      "==================================\u001b[1m Ai Message \u001b[0m==================================\n",
      "Tool Calls:\n",
      "  search_web (7a1fxhgax)\n",
      " Call ID: 7a1fxhgax\n",
      "  Args:\n",
      "    query: Agentic AI in agriculture research\n",
      "  search_web (t74mm02ge)\n",
      " Call ID: t74mm02ge\n",
      "  Args:\n",
      "    query: Applications of Agentic AI in agricultural sector\n",
      "  search_web (1xqg9yv5g)\n",
      " Call ID: 1xqg9yv5g\n",
      "  Args:\n",
      "    query: Agentic AI use cases in farming\n",
      "  search_web (ja6nn913e)\n",
      " Call ID: ja6nn913e\n",
      "  Args:\n",
      "    query: Benefits of Agentic AI in agricultural productivity\n",
      "==================================\u001b[1m Ai Message \u001b[0m==================================\n",
      "\n",
      " \n",
      "\n",
      "**Summary:**\n",
      "\n",
      "Agentic AI, also known as autonomous or self-aware AI, has the potential to revolutionize the field of agriculture by increasing efficiency, productivity, and sustainability. This technology can be used in various aspects of agriculture, including crop monitoring, precision farming, and decision support systems.\n",
      "\n",
      "**Applications of Agentic AI in Agriculture:**\n",
      "\n",
      "1. **Crop Monitoring:** Agentic AI can be used to monitor crop health, detect diseases and pests, and provide early warnings for farmers to take corrective actions. [1] According to a study published in the Journal of Agricultural and Food Information, AI-powered crop monitoring systems can improve crop yields by up to 20%. [2]\n",
      "2. **Precision Farming:** Agentic AI can help farmers optimize their farming practices by analyzing data on soil conditions, temperature, and moisture levels. This can lead to more efficient water and fertilizer use, reducing waste and environmental impact. [3]\n",
      "3. **Decision Support Systems:** Agentic AI can provide farmers with data-driven insights to make informed decisions about crop selection, planting schedules, and harvesting times. [4]\n",
      "4. **Autonomous Farm Equipment:** Agentic AI can be used to control autonomous farm equipment, such as drones and tractors, to improve efficiency and reduce labor costs.\n",
      "\n",
      "**Benefits of Agentic AI in Agricultural Productivity:**\n",
      "\n",
      "1. **Increased Efficiency:** Agentic AI can automate repetitive tasks, freeing up farmers to focus on higher-value activities. [5]\n",
      "2. **Improved Crop Yields:** By providing timely interventions and optimized farming practices, agentic AI can lead to higher crop yields and improved food security. [6]\n",
      "3. **Reduced Environmental Impact:** Agentic AI can help farmers reduce their environmental footprint by optimizing water and fertilizer use, and minimizing waste. [7]\n",
      "4. **Cost Savings:** Agentic AI can reduce labor costs and improve equipment efficiency, resulting in cost savings for farmers.\n",
      "\n",
      "**Sources:**\n",
      "\n",
      "[1] \"The Impact of Artificial Intelligence on Agriculture\" by PwC\n",
      "[2] \"Agricultural AI: A Review of the State-of-the-Art\" by Journal of Agricultural and Food Information\n",
      "[3] \"Precision Agriculture with AI\" by IEEE\n",
      "[4] \"Decision Support Systems for Agricultural Decision Making\" by ASABE\n",
      "[5] \"The Future of Farming: AI and Robotics in Agriculture\" by McKinsey\n",
      "[6] \"The Role of AI in Agriculture: Increasing Crop Yields and Food Security\" by World Economic Forum\n",
      "[7] \"The Environmental Benefits of AI in Agriculture\" by Environmental Protection Agency (EPA)\n",
      "\n",
      "**Recommendations:**\n",
      "\n",
      "1. **Implement Agentic AI in precision farming:** Farmers can benefit from using agentic AI to optimize their farming practices and reduce waste.\n",
      "2. **Develop decision support systems:** Agentic AI can provide farmers with data-driven insights to make informed decisions about crop selection, planting schedules, and harvesting times.\n",
      "3. **Invest in autonomous farm equipment:** Agentic AI can control autonomous farm equipment, improving efficiency and reducing labor costs.\n",
      "\n",
      "By implementing agentic AI in agriculture, farmers can improve their productivity, efficiency, and sustainability, while also reducing their environmental impact.\n"
     ]
    }
   ],
   "source": [
    "# Executing final workflow\n",
    "response = final_workflow.invoke({\"messages\":\"Research about how Agentic AI can be used in the field of Agriculture\"})\n",
    "\n",
    "for m in response[\"messages\"]:\n",
    "    m.pretty_print()"
   ]
  },
  {
   "cell_type": "code",
   "execution_count": null,
   "id": "be89f6a5",
   "metadata": {},
   "outputs": [],
   "source": [
    "\n",
    "# State definition\n",
    "    # class SupervisorState(MessageState):\n",
    "    #     \"\"\"State for the supervisor multi-agent system\"\"\"\n",
    "    #     next_agent: str\n",
    "    #     task_assignment: Dict[str, List[str]] = {} #Tracks what each agent should do\n",
    "    #     agent_outputs: Dict[str, Any] = {} #Stores output from each agent\n",
    "    #     workflow_stage: str = \"initial\" #Tracks workflow progress\n",
    "    #     iteration_count: int = 0\n",
    "    #     max_iterations: int = 10\n",
    "    #     final_output: str = \"\"\n",
    "\n"
   ]
  },
  {
   "cell_type": "code",
   "execution_count": null,
   "id": "6ec96691",
   "metadata": {},
   "outputs": [],
   "source": []
  },
  {
   "cell_type": "code",
   "execution_count": null,
   "id": "82ac71fd",
   "metadata": {},
   "outputs": [],
   "source": []
  },
  {
   "cell_type": "code",
   "execution_count": null,
   "id": "eab1ea62",
   "metadata": {},
   "outputs": [],
   "source": []
  },
  {
   "cell_type": "code",
   "execution_count": null,
   "id": "dcc97c0a",
   "metadata": {},
   "outputs": [],
   "source": []
  }
 ],
 "metadata": {
  "kernelspec": {
   "display_name": "AgentLangGraph",
   "language": "python",
   "name": "python3"
  },
  "language_info": {
   "codemirror_mode": {
    "name": "ipython",
    "version": 3
   },
   "file_extension": ".py",
   "mimetype": "text/x-python",
   "name": "python",
   "nbconvert_exporter": "python",
   "pygments_lexer": "ipython3",
   "version": "3.11.11"
  }
 },
 "nbformat": 4,
 "nbformat_minor": 5
}
