{
 "cells": [
  {
   "cell_type": "markdown",
   "id": "0d3e46e6",
   "metadata": {},
   "source": [
    "# Supervisor Multi AI Agent Architecture"
   ]
  },
  {
   "cell_type": "code",
   "execution_count": null,
   "id": "c1187ba0",
   "metadata": {},
   "outputs": [],
   "source": [
    "from typing import Annotated, TypedDict, List, Literal\n",
    "from langchain_core.messages import BaseMessage, HumanMessage, AIMessage, SystemMessage\n",
    "from langchain_core.tools import tool\n",
    "# from typing_extensions import TypedDict\n",
    "\n",
    "from langgraph.graph import END, START,StateGraph, MessagesState\n",
    "from langgraph.graph.message import add_messages\n",
    "from langgraph.prebuilt import ToolNode\n",
    "from langgraph.prebuilt import tools_condition, create_react_agent\n",
    "from langgraph.checkpoint.memory import MemorySaver\n",
    "from langchain_community.tools.tavily_search import TavilySearchResults\n",
    "from langchain_groq import ChatGroq\n",
    "\n",
    "import random\n",
    "from datetime import datetime\n",
    "\n",
    "import os\n",
    "from dotenv import load_dotenv\n",
    "\n",
    "load_dotenv()"
   ]
  },
  {
   "cell_type": "code",
   "execution_count": null,
   "id": "fd527c98",
   "metadata": {},
   "outputs": [],
   "source": [
    "# Defining supervisor class\n",
    "class SupervisorState(MessagesState):\n",
    "    \"\"\"State for the supervisor multi-agent system\"\"\"\n",
    "    next_agent: str = \"\"\n",
    "    research_data: str = \"\"\n",
    "    analysis: str = \"\"\n",
    "    final_report: str = \"\"\n",
    "    task_complete: bool = False\n",
    "    current_task: str = \"\"\n",
    "\n",
    "# creating supervisor chain\n",
    "def create_supervisor_chain():\n",
    "    \"\"\"creates a supervisor decision chain\"\"\"\n",
    "    supervisor_prompt = ChatPromptTemplate.from_messages([\n",
    "        (\"system\", \"\"\"\"You are a supervisor managing a team of agents:\n",
    "            \n",
    "            1. Researcher - Gathers information and data\n",
    "            2. Analyst - Analyses the data and provides insights\n",
    "            3. Writer - Creates reports and summaries\n",
    "\n",
    "            Based on the current state and conversation , decide which agent should work next.\n",
    "            If the task is completed, respond with 'Done'.\n",
    "\n",
    "            Current state:\n",
    "            - Has research data : {has_research}\n",
    "            - Has analysis : {has_analysis}\n",
    "            - Has report : {has_report}\n",
    "\n",
    "            Respond with ONLY the agent name (researcher/analyst/writer) or 'Done'.\n",
    "        \"\"\" ),\n",
    "        (\"human\",\"{task}\")\n",
    "    ])\n",
    "\n",
    "    return supervisor_prompt | llm"
   ]
  },
  {
   "cell_type": "code",
   "execution_count": null,
   "id": "fe6b4568",
   "metadata": {},
   "outputs": [],
   "source": []
  },
  {
   "cell_type": "code",
   "execution_count": null,
   "id": "befefdeb",
   "metadata": {},
   "outputs": [],
   "source": []
  },
  {
   "cell_type": "code",
   "execution_count": null,
   "id": "dca8a66c",
   "metadata": {},
   "outputs": [],
   "source": []
  },
  {
   "cell_type": "code",
   "execution_count": null,
   "id": "917d8996",
   "metadata": {},
   "outputs": [],
   "source": []
  },
  {
   "cell_type": "markdown",
   "id": "0f5ccf0b",
   "metadata": {},
   "source": []
  }
 ],
 "metadata": {
  "kernelspec": {
   "display_name": "AgentLangGraph",
   "language": "python",
   "name": "python3"
  },
  "language_info": {
   "name": "python",
   "version": "3.11.11"
  }
 },
 "nbformat": 4,
 "nbformat_minor": 5
}
