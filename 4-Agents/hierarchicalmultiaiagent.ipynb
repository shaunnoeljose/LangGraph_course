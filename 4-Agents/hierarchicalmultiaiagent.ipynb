{
 "cells": [
  {
   "cell_type": "markdown",
   "id": "10d4de12",
   "metadata": {},
   "source": [
    "# Hierarchical Multi AI Agent System"
   ]
  },
  {
   "cell_type": "code",
   "execution_count": null,
   "id": "be3beab4",
   "metadata": {},
   "outputs": [],
   "source": []
  },
  {
   "cell_type": "code",
   "execution_count": null,
   "id": "bbe6a142",
   "metadata": {},
   "outputs": [],
   "source": []
  },
  {
   "cell_type": "markdown",
   "id": "8afd5312",
   "metadata": {},
   "source": []
  }
 ],
 "metadata": {
  "kernelspec": {
   "display_name": "AgentLangGraph",
   "language": "python",
   "name": "python3"
  },
  "language_info": {
   "name": "python",
   "version": "3.11.11"
  }
 },
 "nbformat": 4,
 "nbformat_minor": 5
}
