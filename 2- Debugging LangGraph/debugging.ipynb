{
 "cells": [
  {
   "cell_type": "markdown",
   "id": "e076dafa",
   "metadata": {},
   "source": [
    "# Debugging Applications"
   ]
  },
  {
   "cell_type": "code",
   "execution_count": 1,
   "id": "5ec0bad8",
   "metadata": {},
   "outputs": [
    {
     "data": {
      "text/plain": [
       "True"
      ]
     },
     "execution_count": 1,
     "metadata": {},
     "output_type": "execute_result"
    }
   ],
   "source": [
    "from typing import Annotated\n",
    "from typing_extensions import TypedDict\n",
    "\n",
    "from langgraph.graph import END, START\n",
    "from langgraph.graph.state import StateGraph\n",
    "from langgraph.graph.message import add_messages\n",
    "from langgraph.prebuilt import ToolNode\n",
    "from langgraph.prebuilt import tools_condition\n",
    "from langchain_core.tools import tool\n",
    "from langchain_core.messages import BaseMessage\n",
    "from langchain_groq import ChatGroq\n",
    "\n",
    "import os\n",
    "from dotenv import load_dotenv\n",
    "\n",
    "load_dotenv()"
   ]
  },
  {
   "cell_type": "code",
   "execution_count": 2,
   "id": "6ddc216d",
   "metadata": {},
   "outputs": [],
   "source": [
    "# loading the lapi keys\n",
    "groq_api_key = os.getenv(\"GROQ_API\")\n",
    "langsmith_api_key = os.getenv(\"LANGSMITH_API_KEY\")\n",
    "os.environ[\"LANGSMITH_TRACING\"] = \"true\"\n",
    "os.environ[\"LANGSMITH_PROJECT\"] = \"test_project\"\n",
    "\n",
    "# intialising llm\n",
    "llm = ChatGroq(model = \"llama3-70b-8192\", api_key = groq_api_key)\n"
   ]
  },
  {
   "cell_type": "code",
   "execution_count": 3,
   "id": "8f9477af",
   "metadata": {},
   "outputs": [],
   "source": [
    "## State graph with tool call\n",
    "\n",
    "# Defining State\n",
    "class State(TypedDict):\n",
    "    messages : Annotated[list[BaseMessage], add_messages] #keeps the list of all the messages added\n",
    "\n",
    "# Defining the tool\n",
    "@tool\n",
    "def add(a:float, b:float)->float:\n",
    "    \"\"\"\n",
    "    Add two numbers\n",
    "\n",
    "    \"\"\"\n",
    "    return a+b\n",
    "\n",
    "tool = add\n",
    "tool_node = ToolNode([tool])\n",
    "\n",
    "# binding the llm\n",
    "llm_with_tool = llm.bind_tools([add])\n",
    "\n",
    "# Defining node\n",
    "def call_llm(state:State):\n",
    "    return {\"messages\":[llm_with_tool.invoke(state[\"messages\"])]}\n"
   ]
  },
  {
   "cell_type": "code",
   "execution_count": 7,
   "id": "5c7988df",
   "metadata": {},
   "outputs": [
    {
     "data": {
      "image/png": "[encoded data removed]",
      "text/plain": [
       "<langgraph.graph.state.CompiledStateGraph object at 0x00000167FFB73550>"
      ]
     },
     "execution_count": 7,
     "metadata": {},
     "output_type": "execute_result"
    }
   ],
   "source": [
    "# Graph building\n",
    "graph_builder = StateGraph(State)\n",
    "graph_builder.add_node(\"call_llm\", call_llm)\n",
    "graph_builder.add_node(\"tools\", tool_node)\n",
    "\n",
    "graph_builder.add_edge(START,\"call_llm\")\n",
    "graph_builder.add_conditional_edges(\"call_llm\", tools_condition)\n",
    "\n",
    "graph_builder.add_edge(\"tools\",\"call_llm\")\n",
    "\n",
    "graph= graph_builder.compile()\n",
    "graph\n"
   ]
  },
  {
   "cell_type": "code",
   "execution_count": 5,
   "id": "422a3e91",
   "metadata": {},
   "outputs": [
    {
     "data": {
      "text/plain": [
       "{'messages': [HumanMessage(content='What is the recent health news in India', additional_kwargs={}, response_metadata={}, id='c6086f6c-442b-47a7-9831-5a582257d38e'),\n",
       "  AIMessage(content=\"As of my knowledge cutoff, some recent health news in India includes:\\n\\n* The COVID-19 pandemic continues to be a major public health concern in India, with the government taking various measures to control the spread of the virus, including vaccination drives and restrictions on gatherings.\\n* India has seen a significant increase in cases of mucormycosis, a rare fungal infection, particularly among COVID-19 patients who have been treated with steroids.\\n* The Indian government has launched several initiatives to improve healthcare infrastructure and access to healthcare services, including the Ayushman Bharat program, which aims to provide health insurance coverage to millions of people.\\n* There have been reports of outbreaks of diseases such as dengue fever, chikungunya, and swine flu in various parts of the country.\\n* The Indian Council of Medical Research (ICMR) has been working on developing a vaccine for COVID-19, with several candidates in various stages of development.\\n\\nPlease note that these are general updates and may not be the most recent or up-to-date information. It's always best to check with credible news sources or health authorities for the latest information on health news in India.\", additional_kwargs={}, response_metadata={'token_usage': {'completion_tokens': 232, 'prompt_tokens': 1819, 'total_tokens': 2051, 'completion_time': 0.789552907, 'prompt_time': 0.073954634, 'queue_time': -0.20654625199999999, 'total_time': 0.863507541}, 'model_name': 'llama3-70b-8192', 'system_fingerprint': 'fp_dd4ae1c591', 'finish_reason': 'stop', 'logprobs': None}, id='run--595281bb-db3c-4f42-ac03-a5572c934965-0', usage_metadata={'input_tokens': 1819, 'output_tokens': 232, 'total_tokens': 2051})]}"
      ]
     },
     "execution_count": 5,
     "metadata": {},
     "output_type": "execute_result"
    }
   ],
   "source": [
    "# invoking the chatbot\n",
    "response_1 = graph.invoke({\"messages\":\"What is the recent health news in India\"})\n",
    "response_1"
   ]
  },
  {
   "cell_type": "code",
   "execution_count": 6,
   "id": "04df27da",
   "metadata": {},
   "outputs": [
    {
     "data": {
      "text/plain": [
       "{'messages': [HumanMessage(content='What is 2+5', additional_kwargs={}, response_metadata={}, id='8e7553c6-23b6-4cf5-ae58-8c1c3b081eb7'),\n",
       "  AIMessage(content='', additional_kwargs={'tool_calls': [{'id': 'y097rfe8c', 'function': {'arguments': '{\"a\":2,\"b\":5}', 'name': 'add'}, 'type': 'function'}]}, response_metadata={'token_usage': {'completion_tokens': 36, 'prompt_tokens': 897, 'total_tokens': 933, 'completion_time': 0.11169916, 'prompt_time': 0.028631859, 'queue_time': 0.209277377, 'total_time': 0.140331019}, 'model_name': 'llama3-70b-8192', 'system_fingerprint': 'fp_dd4ae1c591', 'finish_reason': 'tool_calls', 'logprobs': None}, id='run--16ccaca2-db00-428c-8ae0-5038a2a97218-0', tool_calls=[{'name': 'add', 'args': {'a': 2, 'b': 5}, 'id': 'y097rfe8c', 'type': 'tool_call'}], usage_metadata={'input_tokens': 897, 'output_tokens': 36, 'total_tokens': 933}),\n",
       "  ToolMessage(content='7.0', name='add', id='51f43d18-c55f-4bb0-8113-604d75fb6594', tool_call_id='y097rfe8c')]}"
      ]
     },
     "execution_count": 6,
     "metadata": {},
     "output_type": "execute_result"
    }
   ],
   "source": [
    "response_2 = graph.invoke({\"messages\":\"What is 2+5\"})\n",
    "response_2"
   ]
  },
  {
   "cell_type": "code",
   "execution_count": null,
   "id": "e08b88de",
   "metadata": {},
   "outputs": [],
   "source": []
  },
  {
   "cell_type": "code",
   "execution_count": null,
   "id": "41f82ae0",
   "metadata": {},
   "outputs": [],
   "source": []
  },
  {
   "cell_type": "code",
   "execution_count": null,
   "id": "048b3708",
   "metadata": {},
   "outputs": [],
   "source": []
  }
 ],
 "metadata": {
  "kernelspec": {
   "display_name": "AgentLangGraph",
   "language": "python",
   "name": "python3"
  },
  "language_info": {
   "codemirror_mode": {
    "name": "ipython",
    "version": 3
   },
   "file_extension": ".py",
   "mimetype": "text/x-python",
   "name": "python",
   "nbconvert_exporter": "python",
   "pygments_lexer": "ipython3",
   "version": "3.11.11"
  }
 },
 "nbformat": 4,
 "nbformat_minor": 5
}
