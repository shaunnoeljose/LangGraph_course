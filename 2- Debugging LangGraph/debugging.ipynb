{
 "cells": [
  {
   "cell_type": "markdown",
   "id": "e076dafa",
   "metadata": {},
   "source": [
    "# Debugging Applications"
   ]
  },
  {
   "cell_type": "code",
   "execution_count": 8,
   "id": "5ec0bad8",
   "metadata": {},
   "outputs": [
    {
     "data": {
      "text/plain": [
       "True"
      ]
     },
     "execution_count": 8,
     "metadata": {},
     "output_type": "execute_result"
    }
   ],
   "source": [
    "from typing import Annotated\n",
    "from typing_extensions import TypedDict\n",
    "\n",
    "from langgraph.graph import END, START\n",
    "from langgraph.graph.state import StateGraph\n",
    "from langgraph.graph.message import add_messages\n",
    "from langgraph.prebuilt import ToolNode\n",
    "from langchain_core.tools import tool\n",
    "from langchain_core.messages import BaseMessage\n",
    "from langchain_groq import ChatGroq\n",
    "\n",
    "import os\n",
    "from dotenv import load_dotenv\n",
    "\n",
    "load_dotenv()"
   ]
  },
  {
   "cell_type": "code",
   "execution_count": null,
   "id": "6ddc216d",
   "metadata": {},
   "outputs": [],
   "source": [
    "# loading the lapi keys\n",
    "groq_api_key = os.getenv(\"GROQ_API\")\n",
    "langsmith_api_key = os.getenv(\"LANGSMITH_API_KEY\")\n",
    "os.environ[\"LANGSMITH_TRACING\"] = \"true\"\n",
    "\n",
    "# intialising llm\n",
    "llm = ChatGroq(model = \"llama3-70b-8192\", api_key = groq_api_key)\n"
   ]
  },
  {
   "cell_type": "code",
   "execution_count": 17,
   "id": "8f9477af",
   "metadata": {},
   "outputs": [],
   "source": [
    "## State graph with tool call\n",
    "\n",
    "# Defining State\n",
    "class State(TypedDict):\n",
    "    messages : Annotated[list[BaseMessage], add_messages] #keeps the list of all the messages added\n",
    "\n",
    "# Defining the tool\n",
    "@tool\n",
    "def add(a:float, b:float)->float:\n",
    "    \"\"\"\n",
    "    Add two numbers\n",
    "\n",
    "    \"\"\"\n",
    "    return a+b\n",
    "\n",
    "tool = add\n",
    "tool_node = ToolNode([tool])\n",
    "\n",
    "# binding the llm\n",
    "llm_with_tool = llm.bind_tools([add])\n",
    "\n",
    "# Defining node\n",
    "def call_llm(state:State):\n",
    "    return {\"messages\":[llm_with_tool.invoke(state[\"messages\"])]}\n"
   ]
  },
  {
   "cell_type": "code",
   "execution_count": 21,
   "id": "5c7988df",
   "metadata": {},
   "outputs": [
    {
     "ename": "NameError",
     "evalue": "name 'garph_builder_compile' is not defined",
     "output_type": "error",
     "traceback": [
      "\u001b[31m---------------------------------------------------------------------------\u001b[39m",
      "\u001b[31mNameError\u001b[39m                                 Traceback (most recent call last)",
      "\u001b[36mCell\u001b[39m\u001b[36m \u001b[39m\u001b[32mIn[21]\u001b[39m\u001b[32m, line 9\u001b[39m\n\u001b[32m      5\u001b[39m graph_builder.add_node(\u001b[33m\"\u001b[39m\u001b[33mtools\u001b[39m\u001b[33m\"\u001b[39m, tool_node)\n\u001b[32m      7\u001b[39m graph_builder.add_edge(START,\u001b[33m\"\u001b[39m\u001b[33mcall_llm\u001b[39m\u001b[33m\"\u001b[39m)\n\u001b[32m----> \u001b[39m\u001b[32m9\u001b[39m graph= \u001b[43mgarph_builder_compile\u001b[49m()\n\u001b[32m     10\u001b[39m graph\n",
      "\u001b[31mNameError\u001b[39m: name 'garph_builder_compile' is not defined"
     ]
    }
   ],
   "source": [
    "# Graph building\n",
    "\n",
    "graph_builder = StateGraph(State)\n",
    "graph_builder.add_node(\"call_llm\", call_llm)\n",
    "graph_builder.add_node(\"tools\", tool_node)\n",
    "\n",
    "graph_builder.add_edge(START,\"call_llm\")\n",
    "\n",
    "graph= garph_builder_compile()\n",
    "graph\n",
    "\n",
    "\n",
    "\n"
   ]
  },
  {
   "cell_type": "code",
   "execution_count": null,
   "id": "422a3e91",
   "metadata": {},
   "outputs": [],
   "source": []
  }
 ],
 "metadata": {
  "kernelspec": {
   "display_name": "AgentLangGraph",
   "language": "python",
   "name": "python3"
  },
  "language_info": {
   "codemirror_mode": {
    "name": "ipython",
    "version": 3
   },
   "file_extension": ".py",
   "mimetype": "text/x-python",
   "name": "python",
   "nbconvert_exporter": "python",
   "pygments_lexer": "ipython3",
   "version": "3.11.11"
  }
 },
 "nbformat": 4,
 "nbformat_minor": 5
}
